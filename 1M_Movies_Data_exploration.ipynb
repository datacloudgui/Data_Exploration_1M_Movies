{
  "cells": [
    {
      "cell_type": "markdown",
      "source": "# 1 Million movies\n\nFor sure we will discover some interesting facts about this huge industry. In this work analize data from IMDb about movies from 1888 to 2023 with around 1 million of movies.\n\nSpecial thanks to Komal Khetlani by compile and upload this amazing dataset. All the CSV files can be viewed in [https://www.kaggle.com/komalkhetlani/imdb-dataset]\n\nThis list contain the stages of the project. Be free to give some advice, recommendation or idea related to de project.",
      "metadata": {
        "tags": [],
        "cell_id": "00000-1a8a16fe-af3d-44fc-8017-afe8b4995984",
        "deepnote_cell_type": "markdown"
      }
    },
    {
      "cell_type": "code",
      "metadata": {
        "cell_id": "00000-ab0a00fb-572e-46a7-b2d9-bad28a1e485d",
        "deepnote_to_be_reexecuted": false,
        "source_hash": "f473f26c",
        "execution_millis": 703,
        "execution_start": 1619155366606,
        "deepnote_cell_type": "code"
      },
      "source": "import pandas as pd\nimport seaborn as sns\nimport matplotlib.pyplot as plt\nimport numpy as np",
      "execution_count": 1,
      "outputs": []
    },
    {
      "cell_type": "markdown",
      "source": "Loading data",
      "metadata": {
        "tags": [],
        "cell_id": "00002-6841aa99-244a-4797-b3f3-b86d68f9c3a4",
        "deepnote_cell_type": "markdown"
      }
    },
    {
      "cell_type": "code",
      "metadata": {
        "cell_id": "00001-1c856c3d-63cc-4741-b866-9ad94bf0bda0",
        "deepnote_to_be_reexecuted": false,
        "source_hash": "a8dcf872",
        "execution_millis": 2244,
        "execution_start": 1619155367311,
        "deepnote_cell_type": "code"
      },
      "source": "titles_df =  pd.read_csv('/work/data/ImdbTitleBasics.csv', low_memory = True)\n#names_df =  pd.read_csv('ImdbTitleCrew.csv')\n#names_df =  pd.read_csv('ImdbTitleRatings.csv')",
      "execution_count": 2,
      "outputs": [
        {
          "name": "stderr",
          "text": "/shared-libs/python3.7/py-core/lib/python3.7/site-packages/IPython/core/interactiveshell.py:3166: DtypeWarning: Columns (5) have mixed types.Specify dtype option on import or set low_memory=False.\n  interactivity=interactivity, compiler=compiler, result=result)\n",
          "output_type": "stream"
        }
      ]
    },
    {
      "cell_type": "code",
      "metadata": {
        "cell_id": "00002-087798f7-34b4-4027-88f5-014cf509020d",
        "deepnote_to_be_reexecuted": false,
        "source_hash": "94c07d1",
        "execution_millis": 3032,
        "execution_start": 1619155369552,
        "deepnote_cell_type": "code"
      },
      "source": "names_df =  pd.read_csv('/work/data/ImdbName.csv')\nprincipals_df =  pd.read_csv('/work/data/ImdbTitlePrincipals.csv')",
      "execution_count": 3,
      "outputs": []
    },
    {
      "cell_type": "markdown",
      "source": "See first columns",
      "metadata": {
        "tags": [],
        "cell_id": "00005-f564337c-eabf-4f25-84dd-11b9576f6e89",
        "deepnote_cell_type": "markdown"
      }
    },
    {
      "cell_type": "code",
      "metadata": {
        "cell_id": "00003-da65f7d7-3f1b-421e-9418-d4c5e59b2158",
        "deepnote_to_be_reexecuted": false,
        "source_hash": "5fc97793",
        "execution_millis": 101,
        "execution_start": 1619155372624,
        "deepnote_cell_type": "code"
      },
      "source": "titles_df.head(5)",
      "execution_count": 4,
      "outputs": [
        {
          "output_type": "execute_result",
          "execution_count": 4,
          "data": {
            "application/vnd.deepnote.dataframe.v2+json": {
              "row_count": 5,
              "column_count": 9,
              "columns": [
                {
                  "name": "tconst",
                  "dtype": "object",
                  "stats": {
                    "unique_count": 5,
                    "nan_count": 0,
                    "categories": [
                      {
                        "name": "tt0000001",
                        "count": 1
                      },
                      {
                        "name": "tt0000002",
                        "count": 1
                      },
                      {
                        "name": "3 others",
                        "count": 3
                      }
                    ]
                  }
                },
                {
                  "name": "titleType",
                  "dtype": "object",
                  "stats": {
                    "unique_count": 1,
                    "nan_count": 0,
                    "categories": [
                      {
                        "name": "short",
                        "count": 5
                      }
                    ]
                  }
                },
                {
                  "name": "primaryTitle",
                  "dtype": "object",
                  "stats": {
                    "unique_count": 5,
                    "nan_count": 0,
                    "categories": [
                      {
                        "name": "Carmencita",
                        "count": 1
                      },
                      {
                        "name": "Le clown et ses chiens",
                        "count": 1
                      },
                      {
                        "name": "3 others",
                        "count": 3
                      }
                    ]
                  }
                },
                {
                  "name": "originalTitle",
                  "dtype": "object",
                  "stats": {
                    "unique_count": 5,
                    "nan_count": 0,
                    "categories": [
                      {
                        "name": "Carmencita",
                        "count": 1
                      },
                      {
                        "name": "Le clown et ses chiens",
                        "count": 1
                      },
                      {
                        "name": "3 others",
                        "count": 3
                      }
                    ]
                  }
                },
                {
                  "name": "isAdult",
                  "dtype": "int64",
                  "stats": {
                    "unique_count": 1,
                    "nan_count": 0,
                    "min": "0",
                    "max": "0",
                    "histogram": [
                      {
                        "bin_start": -0.5,
                        "bin_end": -0.4,
                        "count": 0
                      },
                      {
                        "bin_start": -0.4,
                        "bin_end": -0.3,
                        "count": 0
                      },
                      {
                        "bin_start": -0.3,
                        "bin_end": -0.19999999999999996,
                        "count": 0
                      },
                      {
                        "bin_start": -0.19999999999999996,
                        "bin_end": -0.09999999999999998,
                        "count": 0
                      },
                      {
                        "bin_start": -0.09999999999999998,
                        "bin_end": 0,
                        "count": 0
                      },
                      {
                        "bin_start": 0,
                        "bin_end": 0.10000000000000009,
                        "count": 5
                      },
                      {
                        "bin_start": 0.10000000000000009,
                        "bin_end": 0.20000000000000007,
                        "count": 0
                      },
                      {
                        "bin_start": 0.20000000000000007,
                        "bin_end": 0.30000000000000004,
                        "count": 0
                      },
                      {
                        "bin_start": 0.30000000000000004,
                        "bin_end": 0.4,
                        "count": 0
                      },
                      {
                        "bin_start": 0.4,
                        "bin_end": 0.5,
                        "count": 0
                      }
                    ]
                  }
                },
                {
                  "name": "startYear",
                  "dtype": "object",
                  "stats": {
                    "unique_count": 3,
                    "nan_count": 0,
                    "categories": [
                      {
                        "name": "1892",
                        "count": 3
                      },
                      {
                        "name": "1894",
                        "count": 1
                      },
                      {
                        "name": "1893",
                        "count": 1
                      }
                    ]
                  }
                },
                {
                  "name": "endYear",
                  "dtype": "object",
                  "stats": {
                    "unique_count": 1,
                    "nan_count": 0,
                    "categories": [
                      {
                        "name": "\\N",
                        "count": 5
                      }
                    ]
                  }
                },
                {
                  "name": "runtimeMinutes",
                  "dtype": "object",
                  "stats": {
                    "unique_count": 4,
                    "nan_count": 0,
                    "categories": [
                      {
                        "name": "1",
                        "count": 2
                      },
                      {
                        "name": "5",
                        "count": 1
                      },
                      {
                        "name": "2 others",
                        "count": 2
                      }
                    ]
                  }
                },
                {
                  "name": "genres",
                  "dtype": "object",
                  "stats": {
                    "unique_count": 4,
                    "nan_count": 0,
                    "categories": [
                      {
                        "name": "Animation,Short",
                        "count": 2
                      },
                      {
                        "name": "Documentary,Short",
                        "count": 1
                      },
                      {
                        "name": "2 others",
                        "count": 2
                      }
                    ]
                  }
                },
                {
                  "name": "_deepnote_index_column",
                  "dtype": "int64"
                }
              ],
              "rows_top": [
                {
                  "tconst": "tt0000001",
                  "titleType": "short",
                  "primaryTitle": "Carmencita",
                  "originalTitle": "Carmencita",
                  "isAdult": 0,
                  "startYear": 1894,
                  "endYear": "\\N",
                  "runtimeMinutes": "1",
                  "genres": "Documentary,Short",
                  "_deepnote_index_column": 0
                },
                {
                  "tconst": "tt0000002",
                  "titleType": "short",
                  "primaryTitle": "Le clown et ses chiens",
                  "originalTitle": "Le clown et ses chiens",
                  "isAdult": 0,
                  "startYear": 1892,
                  "endYear": "\\N",
                  "runtimeMinutes": "5",
                  "genres": "Animation,Short",
                  "_deepnote_index_column": 1
                },
                {
                  "tconst": "tt0000003",
                  "titleType": "short",
                  "primaryTitle": "Pauvre Pierrot",
                  "originalTitle": "Pauvre Pierrot",
                  "isAdult": 0,
                  "startYear": 1892,
                  "endYear": "\\N",
                  "runtimeMinutes": "4",
                  "genres": "Animation,Comedy,Romance",
                  "_deepnote_index_column": 2
                },
                {
                  "tconst": "tt0000004",
                  "titleType": "short",
                  "primaryTitle": "Un bon bock",
                  "originalTitle": "Un bon bock",
                  "isAdult": 0,
                  "startYear": 1892,
                  "endYear": "\\N",
                  "runtimeMinutes": "12",
                  "genres": "Animation,Short",
                  "_deepnote_index_column": 3
                },
                {
                  "tconst": "tt0000005",
                  "titleType": "short",
                  "primaryTitle": "Blacksmith Scene",
                  "originalTitle": "Blacksmith Scene",
                  "isAdult": 0,
                  "startYear": 1893,
                  "endYear": "\\N",
                  "runtimeMinutes": "1",
                  "genres": "Comedy,Short",
                  "_deepnote_index_column": 4
                }
              ],
              "rows_bottom": null
            },
            "text/plain": "      tconst titleType            primaryTitle           originalTitle  \\\n0  tt0000001     short              Carmencita              Carmencita   \n1  tt0000002     short  Le clown et ses chiens  Le clown et ses chiens   \n2  tt0000003     short          Pauvre Pierrot          Pauvre Pierrot   \n3  tt0000004     short             Un bon bock             Un bon bock   \n4  tt0000005     short        Blacksmith Scene        Blacksmith Scene   \n\n   isAdult startYear endYear runtimeMinutes                    genres  \n0        0      1894      \\N              1         Documentary,Short  \n1        0      1892      \\N              5           Animation,Short  \n2        0      1892      \\N              4  Animation,Comedy,Romance  \n3        0      1892      \\N             12           Animation,Short  \n4        0      1893      \\N              1              Comedy,Short  ",
            "text/html": "<div>\n<style scoped>\n    .dataframe tbody tr th:only-of-type {\n        vertical-align: middle;\n    }\n\n    .dataframe tbody tr th {\n        vertical-align: top;\n    }\n\n    .dataframe thead th {\n        text-align: right;\n    }\n</style>\n<table border=\"1\" class=\"dataframe\">\n  <thead>\n    <tr style=\"text-align: right;\">\n      <th></th>\n      <th>tconst</th>\n      <th>titleType</th>\n      <th>primaryTitle</th>\n      <th>originalTitle</th>\n      <th>isAdult</th>\n      <th>startYear</th>\n      <th>endYear</th>\n      <th>runtimeMinutes</th>\n      <th>genres</th>\n    </tr>\n  </thead>\n  <tbody>\n    <tr>\n      <th>0</th>\n      <td>tt0000001</td>\n      <td>short</td>\n      <td>Carmencita</td>\n      <td>Carmencita</td>\n      <td>0</td>\n      <td>1894</td>\n      <td>\\N</td>\n      <td>1</td>\n      <td>Documentary,Short</td>\n    </tr>\n    <tr>\n      <th>1</th>\n      <td>tt0000002</td>\n      <td>short</td>\n      <td>Le clown et ses chiens</td>\n      <td>Le clown et ses chiens</td>\n      <td>0</td>\n      <td>1892</td>\n      <td>\\N</td>\n      <td>5</td>\n      <td>Animation,Short</td>\n    </tr>\n    <tr>\n      <th>2</th>\n      <td>tt0000003</td>\n      <td>short</td>\n      <td>Pauvre Pierrot</td>\n      <td>Pauvre Pierrot</td>\n      <td>0</td>\n      <td>1892</td>\n      <td>\\N</td>\n      <td>4</td>\n      <td>Animation,Comedy,Romance</td>\n    </tr>\n    <tr>\n      <th>3</th>\n      <td>tt0000004</td>\n      <td>short</td>\n      <td>Un bon bock</td>\n      <td>Un bon bock</td>\n      <td>0</td>\n      <td>1892</td>\n      <td>\\N</td>\n      <td>12</td>\n      <td>Animation,Short</td>\n    </tr>\n    <tr>\n      <th>4</th>\n      <td>tt0000005</td>\n      <td>short</td>\n      <td>Blacksmith Scene</td>\n      <td>Blacksmith Scene</td>\n      <td>0</td>\n      <td>1893</td>\n      <td>\\N</td>\n      <td>1</td>\n      <td>Comedy,Short</td>\n    </tr>\n  </tbody>\n</table>\n</div>"
          },
          "metadata": {}
        }
      ]
    },
    {
      "cell_type": "code",
      "metadata": {
        "cell_id": "00004-2d567074-d33a-4f52-be3c-e85a4d95fc95",
        "deepnote_to_be_reexecuted": false,
        "source_hash": "d1138051",
        "execution_millis": 66,
        "execution_start": 1619155372659,
        "deepnote_cell_type": "code"
      },
      "source": "names_df.head(5)",
      "execution_count": 5,
      "outputs": [
        {
          "output_type": "execute_result",
          "execution_count": 5,
          "data": {
            "application/vnd.deepnote.dataframe.v2+json": {
              "row_count": 5,
              "column_count": 6,
              "columns": [
                {
                  "name": "nconst",
                  "dtype": "object",
                  "stats": {
                    "unique_count": 5,
                    "nan_count": 0,
                    "categories": [
                      {
                        "name": "nm0000001",
                        "count": 1
                      },
                      {
                        "name": "nm0000002",
                        "count": 1
                      },
                      {
                        "name": "3 others",
                        "count": 3
                      }
                    ]
                  }
                },
                {
                  "name": "primaryName",
                  "dtype": "object",
                  "stats": {
                    "unique_count": 5,
                    "nan_count": 0,
                    "categories": [
                      {
                        "name": "Fred Astaire",
                        "count": 1
                      },
                      {
                        "name": "Lauren Bacall",
                        "count": 1
                      },
                      {
                        "name": "3 others",
                        "count": 3
                      }
                    ]
                  }
                },
                {
                  "name": "birthYear",
                  "dtype": "object",
                  "stats": {
                    "unique_count": 5,
                    "nan_count": 0,
                    "categories": [
                      {
                        "name": "1899",
                        "count": 1
                      },
                      {
                        "name": "1924",
                        "count": 1
                      },
                      {
                        "name": "3 others",
                        "count": 3
                      }
                    ]
                  }
                },
                {
                  "name": "deathYear",
                  "dtype": "object",
                  "stats": {
                    "unique_count": 5,
                    "nan_count": 0,
                    "categories": [
                      {
                        "name": "1987",
                        "count": 1
                      },
                      {
                        "name": "2014",
                        "count": 1
                      },
                      {
                        "name": "3 others",
                        "count": 3
                      }
                    ]
                  }
                },
                {
                  "name": "primaryProfession",
                  "dtype": "object",
                  "stats": {
                    "unique_count": 5,
                    "nan_count": 0,
                    "categories": [
                      {
                        "name": "soundtrack,actor,miscellaneous",
                        "count": 1
                      },
                      {
                        "name": "actress,soundtrack",
                        "count": 1
                      },
                      {
                        "name": "3 others",
                        "count": 3
                      }
                    ]
                  }
                },
                {
                  "name": "knownForTitles",
                  "dtype": "object",
                  "stats": {
                    "unique_count": 5,
                    "nan_count": 0,
                    "categories": [
                      {
                        "name": "tt0053137,tt0031983,tt0050419,tt0072308",
                        "count": 1
                      },
                      {
                        "name": "tt0117057,tt0071877,tt0038355,tt0037382",
                        "count": 1
                      },
                      {
                        "name": "3 others",
                        "count": 3
                      }
                    ]
                  }
                },
                {
                  "name": "_deepnote_index_column",
                  "dtype": "int64"
                }
              ],
              "rows_top": [
                {
                  "nconst": "nm0000001",
                  "primaryName": "Fred Astaire",
                  "birthYear": "1899",
                  "deathYear": "1987",
                  "primaryProfession": "soundtrack,actor,miscellaneous",
                  "knownForTitles": "tt0053137,tt0031983,tt0050419,tt0072308",
                  "_deepnote_index_column": 0
                },
                {
                  "nconst": "nm0000002",
                  "primaryName": "Lauren Bacall",
                  "birthYear": "1924",
                  "deathYear": "2014",
                  "primaryProfession": "actress,soundtrack",
                  "knownForTitles": "tt0117057,tt0071877,tt0038355,tt0037382",
                  "_deepnote_index_column": 1
                },
                {
                  "nconst": "nm0000003",
                  "primaryName": "Brigitte Bardot",
                  "birthYear": "1934",
                  "deathYear": "\\N",
                  "primaryProfession": "actress,soundtrack,music_department",
                  "knownForTitles": "tt0054452,tt0057345,tt0056404,tt0049189",
                  "_deepnote_index_column": 2
                },
                {
                  "nconst": "nm0000004",
                  "primaryName": "John Belushi",
                  "birthYear": "1949",
                  "deathYear": "1982",
                  "primaryProfession": "actor,soundtrack,writer",
                  "knownForTitles": "tt0080455,tt0077975,tt0072562,tt0078723",
                  "_deepnote_index_column": 3
                },
                {
                  "nconst": "nm0000005",
                  "primaryName": "Ingmar Bergman",
                  "birthYear": "1918",
                  "deathYear": "2007",
                  "primaryProfession": "writer,director,actor",
                  "knownForTitles": "tt0069467,tt0050976,tt0050986,tt0060827",
                  "_deepnote_index_column": 4
                }
              ],
              "rows_bottom": null
            },
            "text/plain": "      nconst      primaryName birthYear deathYear  \\\n0  nm0000001     Fred Astaire      1899      1987   \n1  nm0000002    Lauren Bacall      1924      2014   \n2  nm0000003  Brigitte Bardot      1934        \\N   \n3  nm0000004     John Belushi      1949      1982   \n4  nm0000005   Ingmar Bergman      1918      2007   \n\n                     primaryProfession  \\\n0       soundtrack,actor,miscellaneous   \n1                   actress,soundtrack   \n2  actress,soundtrack,music_department   \n3              actor,soundtrack,writer   \n4                writer,director,actor   \n\n                            knownForTitles  \n0  tt0053137,tt0031983,tt0050419,tt0072308  \n1  tt0117057,tt0071877,tt0038355,tt0037382  \n2  tt0054452,tt0057345,tt0056404,tt0049189  \n3  tt0080455,tt0077975,tt0072562,tt0078723  \n4  tt0069467,tt0050976,tt0050986,tt0060827  ",
            "text/html": "<div>\n<style scoped>\n    .dataframe tbody tr th:only-of-type {\n        vertical-align: middle;\n    }\n\n    .dataframe tbody tr th {\n        vertical-align: top;\n    }\n\n    .dataframe thead th {\n        text-align: right;\n    }\n</style>\n<table border=\"1\" class=\"dataframe\">\n  <thead>\n    <tr style=\"text-align: right;\">\n      <th></th>\n      <th>nconst</th>\n      <th>primaryName</th>\n      <th>birthYear</th>\n      <th>deathYear</th>\n      <th>primaryProfession</th>\n      <th>knownForTitles</th>\n    </tr>\n  </thead>\n  <tbody>\n    <tr>\n      <th>0</th>\n      <td>nm0000001</td>\n      <td>Fred Astaire</td>\n      <td>1899</td>\n      <td>1987</td>\n      <td>soundtrack,actor,miscellaneous</td>\n      <td>tt0053137,tt0031983,tt0050419,tt0072308</td>\n    </tr>\n    <tr>\n      <th>1</th>\n      <td>nm0000002</td>\n      <td>Lauren Bacall</td>\n      <td>1924</td>\n      <td>2014</td>\n      <td>actress,soundtrack</td>\n      <td>tt0117057,tt0071877,tt0038355,tt0037382</td>\n    </tr>\n    <tr>\n      <th>2</th>\n      <td>nm0000003</td>\n      <td>Brigitte Bardot</td>\n      <td>1934</td>\n      <td>\\N</td>\n      <td>actress,soundtrack,music_department</td>\n      <td>tt0054452,tt0057345,tt0056404,tt0049189</td>\n    </tr>\n    <tr>\n      <th>3</th>\n      <td>nm0000004</td>\n      <td>John Belushi</td>\n      <td>1949</td>\n      <td>1982</td>\n      <td>actor,soundtrack,writer</td>\n      <td>tt0080455,tt0077975,tt0072562,tt0078723</td>\n    </tr>\n    <tr>\n      <th>4</th>\n      <td>nm0000005</td>\n      <td>Ingmar Bergman</td>\n      <td>1918</td>\n      <td>2007</td>\n      <td>writer,director,actor</td>\n      <td>tt0069467,tt0050976,tt0050986,tt0060827</td>\n    </tr>\n  </tbody>\n</table>\n</div>"
          },
          "metadata": {}
        }
      ]
    },
    {
      "cell_type": "code",
      "metadata": {
        "cell_id": "00005-9e064b60-9726-4eae-bcaa-1dab133aedee",
        "deepnote_to_be_reexecuted": false,
        "source_hash": "e440be13",
        "execution_millis": 20,
        "execution_start": 1619155372709,
        "deepnote_cell_type": "code"
      },
      "source": "principals_df.head(5)",
      "execution_count": 6,
      "outputs": [
        {
          "output_type": "execute_result",
          "execution_count": 6,
          "data": {
            "application/vnd.deepnote.dataframe.v2+json": {
              "row_count": 5,
              "column_count": 6,
              "columns": [
                {
                  "name": "tconst",
                  "dtype": "object",
                  "stats": {
                    "unique_count": 2,
                    "nan_count": 0,
                    "categories": [
                      {
                        "name": "tt0000001",
                        "count": 3
                      },
                      {
                        "name": "tt0000002",
                        "count": 2
                      }
                    ]
                  }
                },
                {
                  "name": "ordering",
                  "dtype": "int64",
                  "stats": {
                    "unique_count": 3,
                    "nan_count": 0,
                    "min": "1",
                    "max": "3",
                    "histogram": [
                      {
                        "bin_start": 1,
                        "bin_end": 1.2,
                        "count": 2
                      },
                      {
                        "bin_start": 1.2,
                        "bin_end": 1.4,
                        "count": 0
                      },
                      {
                        "bin_start": 1.4,
                        "bin_end": 1.6,
                        "count": 0
                      },
                      {
                        "bin_start": 1.6,
                        "bin_end": 1.8,
                        "count": 0
                      },
                      {
                        "bin_start": 1.8,
                        "bin_end": 2,
                        "count": 0
                      },
                      {
                        "bin_start": 2,
                        "bin_end": 2.2,
                        "count": 2
                      },
                      {
                        "bin_start": 2.2,
                        "bin_end": 2.4000000000000004,
                        "count": 0
                      },
                      {
                        "bin_start": 2.4000000000000004,
                        "bin_end": 2.6,
                        "count": 0
                      },
                      {
                        "bin_start": 2.6,
                        "bin_end": 2.8,
                        "count": 0
                      },
                      {
                        "bin_start": 2.8,
                        "bin_end": 3,
                        "count": 1
                      }
                    ]
                  }
                },
                {
                  "name": "nconst",
                  "dtype": "object",
                  "stats": {
                    "unique_count": 5,
                    "nan_count": 0,
                    "categories": [
                      {
                        "name": "nm1588970",
                        "count": 1
                      },
                      {
                        "name": "nm0005690",
                        "count": 1
                      },
                      {
                        "name": "3 others",
                        "count": 3
                      }
                    ]
                  }
                },
                {
                  "name": "category",
                  "dtype": "object",
                  "stats": {
                    "unique_count": 4,
                    "nan_count": 0,
                    "categories": [
                      {
                        "name": "director",
                        "count": 2
                      },
                      {
                        "name": "self",
                        "count": 1
                      },
                      {
                        "name": "2 others",
                        "count": 2
                      }
                    ]
                  }
                },
                {
                  "name": "job",
                  "dtype": "object",
                  "stats": {
                    "unique_count": 2,
                    "nan_count": 0,
                    "categories": [
                      {
                        "name": "\\N",
                        "count": 4
                      },
                      {
                        "name": "director of photography",
                        "count": 1
                      }
                    ]
                  }
                },
                {
                  "name": "characters",
                  "dtype": "object",
                  "stats": {
                    "unique_count": 2,
                    "nan_count": 0,
                    "categories": [
                      {
                        "name": "\\N",
                        "count": 4
                      },
                      {
                        "name": "[\"Self\"]",
                        "count": 1
                      }
                    ]
                  }
                },
                {
                  "name": "_deepnote_index_column",
                  "dtype": "int64"
                }
              ],
              "rows_top": [
                {
                  "tconst": "tt0000001",
                  "ordering": 1,
                  "nconst": "nm1588970",
                  "category": "self",
                  "job": "\\N",
                  "characters": "[\"Self\"]",
                  "_deepnote_index_column": 0
                },
                {
                  "tconst": "tt0000001",
                  "ordering": 2,
                  "nconst": "nm0005690",
                  "category": "director",
                  "job": "\\N",
                  "characters": "\\N",
                  "_deepnote_index_column": 1
                },
                {
                  "tconst": "tt0000001",
                  "ordering": 3,
                  "nconst": "nm0374658",
                  "category": "cinematographer",
                  "job": "director of photography",
                  "characters": "\\N",
                  "_deepnote_index_column": 2
                },
                {
                  "tconst": "tt0000002",
                  "ordering": 1,
                  "nconst": "nm0721526",
                  "category": "director",
                  "job": "\\N",
                  "characters": "\\N",
                  "_deepnote_index_column": 3
                },
                {
                  "tconst": "tt0000002",
                  "ordering": 2,
                  "nconst": "nm1335271",
                  "category": "composer",
                  "job": "\\N",
                  "characters": "\\N",
                  "_deepnote_index_column": 4
                }
              ],
              "rows_bottom": null
            },
            "text/plain": "      tconst  ordering     nconst         category                      job  \\\n0  tt0000001         1  nm1588970             self                       \\N   \n1  tt0000001         2  nm0005690         director                       \\N   \n2  tt0000001         3  nm0374658  cinematographer  director of photography   \n3  tt0000002         1  nm0721526         director                       \\N   \n4  tt0000002         2  nm1335271         composer                       \\N   \n\n  characters  \n0   [\"Self\"]  \n1         \\N  \n2         \\N  \n3         \\N  \n4         \\N  ",
            "text/html": "<div>\n<style scoped>\n    .dataframe tbody tr th:only-of-type {\n        vertical-align: middle;\n    }\n\n    .dataframe tbody tr th {\n        vertical-align: top;\n    }\n\n    .dataframe thead th {\n        text-align: right;\n    }\n</style>\n<table border=\"1\" class=\"dataframe\">\n  <thead>\n    <tr style=\"text-align: right;\">\n      <th></th>\n      <th>tconst</th>\n      <th>ordering</th>\n      <th>nconst</th>\n      <th>category</th>\n      <th>job</th>\n      <th>characters</th>\n    </tr>\n  </thead>\n  <tbody>\n    <tr>\n      <th>0</th>\n      <td>tt0000001</td>\n      <td>1</td>\n      <td>nm1588970</td>\n      <td>self</td>\n      <td>\\N</td>\n      <td>[\"Self\"]</td>\n    </tr>\n    <tr>\n      <th>1</th>\n      <td>tt0000001</td>\n      <td>2</td>\n      <td>nm0005690</td>\n      <td>director</td>\n      <td>\\N</td>\n      <td>\\N</td>\n    </tr>\n    <tr>\n      <th>2</th>\n      <td>tt0000001</td>\n      <td>3</td>\n      <td>nm0374658</td>\n      <td>cinematographer</td>\n      <td>director of photography</td>\n      <td>\\N</td>\n    </tr>\n    <tr>\n      <th>3</th>\n      <td>tt0000002</td>\n      <td>1</td>\n      <td>nm0721526</td>\n      <td>director</td>\n      <td>\\N</td>\n      <td>\\N</td>\n    </tr>\n    <tr>\n      <th>4</th>\n      <td>tt0000002</td>\n      <td>2</td>\n      <td>nm1335271</td>\n      <td>composer</td>\n      <td>\\N</td>\n      <td>\\N</td>\n    </tr>\n  </tbody>\n</table>\n</div>"
          },
          "metadata": {}
        }
      ]
    },
    {
      "cell_type": "markdown",
      "source": "Merging the data around principals DF.",
      "metadata": {
        "tags": [],
        "cell_id": "00009-39444014-7498-4b93-a5b4-e532a36f67d4",
        "deepnote_cell_type": "markdown"
      }
    },
    {
      "cell_type": "code",
      "metadata": {
        "scrolled": false,
        "cell_id": "00006-e01283f1-fabd-46df-9238-46df579d950a",
        "deepnote_to_be_reexecuted": false,
        "source_hash": "da0bd012",
        "execution_millis": 3084,
        "execution_start": 1619155372712,
        "deepnote_cell_type": "code"
      },
      "source": "df = principals_df.merge(titles_df, left_on='tconst', right_on='tconst').merge(names_df, \n                                                                          left_on= 'nconst', right_on='nconst')",
      "execution_count": 7,
      "outputs": []
    },
    {
      "cell_type": "markdown",
      "source": "Taking a sample to improve speed of first test.",
      "metadata": {
        "tags": [],
        "cell_id": "00011-688a79b0-d3d0-4c86-ba18-dd256bb01d8d",
        "deepnote_cell_type": "markdown"
      }
    },
    {
      "cell_type": "code",
      "metadata": {
        "cell_id": "00008-6edffd1a-2e65-4a05-964f-dc9427e4bee7",
        "deepnote_to_be_reexecuted": false,
        "source_hash": "382ef942",
        "execution_millis": 577,
        "execution_start": 1619155375807,
        "deepnote_cell_type": "code"
      },
      "source": "df = df.sample(n=1000)",
      "execution_count": 8,
      "outputs": []
    },
    {
      "cell_type": "code",
      "source": "df.head()",
      "metadata": {
        "tags": [],
        "cell_id": "00009-ffafa850-b0fe-465f-accd-ef3b2c39ccf7",
        "deepnote_to_be_reexecuted": false,
        "source_hash": "c085b6ba",
        "execution_millis": 72,
        "execution_start": 1619155376391,
        "deepnote_cell_type": "code"
      },
      "outputs": [
        {
          "output_type": "execute_result",
          "execution_count": 9,
          "data": {
            "application/vnd.deepnote.dataframe.v2+json": {
              "row_count": 5,
              "column_count": 19,
              "columns": [
                {
                  "name": "tconst",
                  "dtype": "object",
                  "stats": {
                    "unique_count": 5,
                    "nan_count": 0,
                    "categories": [
                      {
                        "name": "tt0078309",
                        "count": 1
                      },
                      {
                        "name": "tt0105845",
                        "count": 1
                      },
                      {
                        "name": "3 others",
                        "count": 3
                      }
                    ]
                  }
                },
                {
                  "name": "ordering",
                  "dtype": "int64",
                  "stats": {
                    "unique_count": 3,
                    "nan_count": 0,
                    "min": "1",
                    "max": "4",
                    "histogram": [
                      {
                        "bin_start": 1,
                        "bin_end": 1.3,
                        "count": 2
                      },
                      {
                        "bin_start": 1.3,
                        "bin_end": 1.6,
                        "count": 0
                      },
                      {
                        "bin_start": 1.6,
                        "bin_end": 1.9,
                        "count": 0
                      },
                      {
                        "bin_start": 1.9,
                        "bin_end": 2.2,
                        "count": 0
                      },
                      {
                        "bin_start": 2.2,
                        "bin_end": 2.5,
                        "count": 0
                      },
                      {
                        "bin_start": 2.5,
                        "bin_end": 2.8,
                        "count": 0
                      },
                      {
                        "bin_start": 2.8,
                        "bin_end": 3.1,
                        "count": 1
                      },
                      {
                        "bin_start": 3.1,
                        "bin_end": 3.4,
                        "count": 0
                      },
                      {
                        "bin_start": 3.4,
                        "bin_end": 3.6999999999999997,
                        "count": 0
                      },
                      {
                        "bin_start": 3.6999999999999997,
                        "bin_end": 4,
                        "count": 2
                      }
                    ]
                  }
                },
                {
                  "name": "nconst",
                  "dtype": "object",
                  "stats": {
                    "unique_count": 5,
                    "nan_count": 0,
                    "categories": [
                      {
                        "name": "nm0717068",
                        "count": 1
                      },
                      {
                        "name": "nm0461918",
                        "count": 1
                      },
                      {
                        "name": "3 others",
                        "count": 3
                      }
                    ]
                  }
                },
                {
                  "name": "category",
                  "dtype": "object",
                  "stats": {
                    "unique_count": 3,
                    "nan_count": 0,
                    "categories": [
                      {
                        "name": "actor",
                        "count": 3
                      },
                      {
                        "name": "director",
                        "count": 1
                      },
                      {
                        "name": "archive_footage",
                        "count": 1
                      }
                    ]
                  }
                },
                {
                  "name": "job",
                  "dtype": "object",
                  "stats": {
                    "unique_count": 1,
                    "nan_count": 0,
                    "categories": [
                      {
                        "name": "\\N",
                        "count": 5
                      }
                    ]
                  }
                },
                {
                  "name": "characters",
                  "dtype": "object",
                  "stats": {
                    "unique_count": 4,
                    "nan_count": 0,
                    "categories": [
                      {
                        "name": "\\N",
                        "count": 2
                      },
                      {
                        "name": "[\"Big Mouth\"]",
                        "count": 1
                      },
                      {
                        "name": "2 others",
                        "count": 2
                      }
                    ]
                  }
                },
                {
                  "name": "titleType",
                  "dtype": "object",
                  "stats": {
                    "unique_count": 3,
                    "nan_count": 0,
                    "categories": [
                      {
                        "name": "movie",
                        "count": 3
                      },
                      {
                        "name": "tvMovie",
                        "count": 1
                      },
                      {
                        "name": "short",
                        "count": 1
                      }
                    ]
                  }
                },
                {
                  "name": "primaryTitle",
                  "dtype": "object",
                  "stats": {
                    "unique_count": 5,
                    "nan_count": 0,
                    "categories": [
                      {
                        "name": "Das Spiel",
                        "count": 1
                      },
                      {
                        "name": "Wu hu si hai",
                        "count": 1
                      },
                      {
                        "name": "3 others",
                        "count": 3
                      }
                    ]
                  }
                },
                {
                  "name": "originalTitle",
                  "dtype": "object",
                  "stats": {
                    "unique_count": 5,
                    "nan_count": 0,
                    "categories": [
                      {
                        "name": "Das Spiel",
                        "count": 1
                      },
                      {
                        "name": "Wu hu si hai",
                        "count": 1
                      },
                      {
                        "name": "3 others",
                        "count": 3
                      }
                    ]
                  }
                },
                {
                  "name": "isAdult",
                  "dtype": "int64",
                  "stats": {
                    "unique_count": 1,
                    "nan_count": 0,
                    "min": "0",
                    "max": "0",
                    "histogram": [
                      {
                        "bin_start": -0.5,
                        "bin_end": -0.4,
                        "count": 0
                      },
                      {
                        "bin_start": -0.4,
                        "bin_end": -0.3,
                        "count": 0
                      },
                      {
                        "bin_start": -0.3,
                        "bin_end": -0.19999999999999996,
                        "count": 0
                      },
                      {
                        "bin_start": -0.19999999999999996,
                        "bin_end": -0.09999999999999998,
                        "count": 0
                      },
                      {
                        "bin_start": -0.09999999999999998,
                        "bin_end": 0,
                        "count": 0
                      },
                      {
                        "bin_start": 0,
                        "bin_end": 0.10000000000000009,
                        "count": 5
                      },
                      {
                        "bin_start": 0.10000000000000009,
                        "bin_end": 0.20000000000000007,
                        "count": 0
                      },
                      {
                        "bin_start": 0.20000000000000007,
                        "bin_end": 0.30000000000000004,
                        "count": 0
                      },
                      {
                        "bin_start": 0.30000000000000004,
                        "bin_end": 0.4,
                        "count": 0
                      },
                      {
                        "bin_start": 0.4,
                        "bin_end": 0.5,
                        "count": 0
                      }
                    ]
                  }
                },
                {
                  "name": "startYear",
                  "dtype": "object",
                  "stats": {
                    "unique_count": 5,
                    "nan_count": 0,
                    "categories": [
                      {
                        "name": "1978",
                        "count": 1
                      },
                      {
                        "name": "1992",
                        "count": 1
                      },
                      {
                        "name": "3 others",
                        "count": 3
                      }
                    ]
                  }
                },
                {
                  "name": "endYear",
                  "dtype": "object",
                  "stats": {
                    "unique_count": 1,
                    "nan_count": 0,
                    "categories": [
                      {
                        "name": "\\N",
                        "count": 5
                      }
                    ]
                  }
                },
                {
                  "name": "runtimeMinutes",
                  "dtype": "object",
                  "stats": {
                    "unique_count": 5,
                    "nan_count": 0,
                    "categories": [
                      {
                        "name": "\\N",
                        "count": 1
                      },
                      {
                        "name": "90",
                        "count": 1
                      },
                      {
                        "name": "3 others",
                        "count": 3
                      }
                    ]
                  }
                },
                {
                  "name": "genres",
                  "dtype": "object",
                  "stats": {
                    "unique_count": 5,
                    "nan_count": 0,
                    "categories": [
                      {
                        "name": "\\N",
                        "count": 1
                      },
                      {
                        "name": "Action,Crime,Thriller",
                        "count": 1
                      },
                      {
                        "name": "3 others",
                        "count": 3
                      }
                    ]
                  }
                },
                {
                  "name": "primaryName",
                  "dtype": "object",
                  "stats": {
                    "unique_count": 5,
                    "nan_count": 0,
                    "categories": [
                      {
                        "name": "Lutz Reichert",
                        "count": 1
                      },
                      {
                        "name": "Blackie Shou-Liang Ko",
                        "count": 1
                      },
                      {
                        "name": "3 others",
                        "count": 3
                      }
                    ]
                  }
                },
                {
                  "name": "birthYear",
                  "dtype": "object",
                  "stats": {
                    "unique_count": 5,
                    "nan_count": 0,
                    "categories": [
                      {
                        "name": "1951",
                        "count": 1
                      },
                      {
                        "name": "1953",
                        "count": 1
                      },
                      {
                        "name": "3 others",
                        "count": 3
                      }
                    ]
                  }
                },
                {
                  "name": "deathYear",
                  "dtype": "object",
                  "stats": {
                    "unique_count": 3,
                    "nan_count": 0,
                    "categories": [
                      {
                        "name": "\\N",
                        "count": 3
                      },
                      {
                        "name": "2003",
                        "count": 1
                      },
                      {
                        "name": "1992",
                        "count": 1
                      }
                    ]
                  }
                },
                {
                  "name": "primaryProfession",
                  "dtype": "object",
                  "stats": {
                    "unique_count": 5,
                    "nan_count": 0,
                    "categories": [
                      {
                        "name": "actor",
                        "count": 1
                      },
                      {
                        "name": "actor,stunts,director",
                        "count": 1
                      },
                      {
                        "name": "3 others",
                        "count": 3
                      }
                    ]
                  }
                },
                {
                  "name": "knownForTitles",
                  "dtype": "object",
                  "stats": {
                    "unique_count": 5,
                    "nan_count": 0,
                    "categories": [
                      {
                        "name": "tt0806910,tt0108985,tt0103582,tt0090447",
                        "count": 1
                      },
                      {
                        "name": "tt0105845,tt0368813,tt0091431,tt0067009",
                        "count": 1
                      },
                      {
                        "name": "3 others",
                        "count": 3
                      }
                    ]
                  }
                },
                {
                  "name": "_deepnote_index_column",
                  "dtype": "int64"
                }
              ],
              "rows_top": [
                {
                  "tconst": "tt0078309",
                  "ordering": 1,
                  "nconst": "nm0717068",
                  "category": "actor",
                  "job": "\\N",
                  "characters": "\\N",
                  "titleType": "tvMovie",
                  "primaryTitle": "Das Spiel",
                  "originalTitle": "Das Spiel",
                  "isAdult": 0,
                  "startYear": "1978",
                  "endYear": "\\N",
                  "runtimeMinutes": "\\N",
                  "genres": "\\N",
                  "primaryName": "Lutz Reichert",
                  "birthYear": "1951",
                  "deathYear": "\\N",
                  "primaryProfession": "actor",
                  "knownForTitles": "tt0806910,tt0108985,tt0103582,tt0090447",
                  "_deepnote_index_column": 769449
                },
                {
                  "tconst": "tt0105845",
                  "ordering": 4,
                  "nconst": "nm0461918",
                  "category": "actor",
                  "job": "\\N",
                  "characters": "[\"Big Mouth\"]",
                  "titleType": "movie",
                  "primaryTitle": "Wu hu si hai",
                  "originalTitle": "Wu hu si hai",
                  "isAdult": 0,
                  "startYear": "1992",
                  "endYear": "\\N",
                  "runtimeMinutes": "90",
                  "genres": "Action,Crime,Thriller",
                  "primaryName": "Blackie Shou-Liang Ko",
                  "birthYear": "1953",
                  "deathYear": "2003",
                  "primaryProfession": "actor,stunts,director",
                  "knownForTitles": "tt0105845,tt0368813,tt0091431,tt0067009",
                  "_deepnote_index_column": 842775
                },
                {
                  "tconst": "tt0112598",
                  "ordering": 1,
                  "nconst": "nm0954128",
                  "category": "director",
                  "job": "\\N",
                  "characters": "\\N",
                  "titleType": "short",
                  "primaryTitle": "Burgenland 1945 - Historische Spurensuche",
                  "originalTitle": "Burgenland 1945 - Historische Spurensuche",
                  "isAdult": 0,
                  "startYear": "1995",
                  "endYear": "\\N",
                  "runtimeMinutes": "32",
                  "genres": "Short",
                  "primaryName": "Herbert Zechmeister",
                  "birthYear": "\\N",
                  "deathYear": "\\N",
                  "primaryProfession": "production_manager,director,writer",
                  "knownForTitles": "tt0112598,tt0114686,tt0144061,tt0390500",
                  "_deepnote_index_column": 969004
                },
                {
                  "tconst": "tt0074454",
                  "ordering": 3,
                  "nconst": "nm0078525",
                  "category": "actor",
                  "job": "\\N",
                  "characters": "[\"Billy B. Westerby\"]",
                  "titleType": "movie",
                  "primaryTitle": "Eat My Dust!",
                  "originalTitle": "Eat My Dust",
                  "isAdult": 0,
                  "startYear": "1976",
                  "endYear": "\\N",
                  "runtimeMinutes": "89",
                  "genres": "Action,Comedy,Romance",
                  "primaryName": "Brad David",
                  "birthYear": "1947",
                  "deathYear": "\\N",
                  "primaryProfession": "actor,writer",
                  "knownForTitles": "tt0080319,tt0086567,tt0074454,tt0069840",
                  "_deepnote_index_column": 701758
                },
                {
                  "tconst": "tt0055994",
                  "ordering": 4,
                  "nconst": "nm0214748",
                  "category": "archive_footage",
                  "job": "\\N",
                  "characters": "[\"Archduchess Sophie\"]",
                  "titleType": "movie",
                  "primaryTitle": "Forever My Love",
                  "originalTitle": "Forever My Love",
                  "isAdult": 0,
                  "startYear": "1962",
                  "endYear": "\\N",
                  "runtimeMinutes": "148",
                  "genres": "Drama,Romance",
                  "primaryName": "Vilma Degischer",
                  "birthYear": "1911",
                  "deathYear": "1992",
                  "primaryProfession": "actress",
                  "knownForTitles": "tt0056907,tt0050974,tt0049762,tt0048624",
                  "_deepnote_index_column": 419583
                }
              ],
              "rows_bottom": null
            },
            "text/plain": "           tconst  ordering     nconst         category job  \\\n769449  tt0078309         1  nm0717068            actor  \\N   \n842775  tt0105845         4  nm0461918            actor  \\N   \n969004  tt0112598         1  nm0954128         director  \\N   \n701758  tt0074454         3  nm0078525            actor  \\N   \n419583  tt0055994         4  nm0214748  archive_footage  \\N   \n\n                    characters titleType  \\\n769449                      \\N   tvMovie   \n842775           [\"Big Mouth\"]     movie   \n969004                      \\N     short   \n701758   [\"Billy B. Westerby\"]     movie   \n419583  [\"Archduchess Sophie\"]     movie   \n\n                                     primaryTitle  \\\n769449                                  Das Spiel   \n842775                               Wu hu si hai   \n969004  Burgenland 1945 - Historische Spurensuche   \n701758                               Eat My Dust!   \n419583                            Forever My Love   \n\n                                    originalTitle  isAdult startYear endYear  \\\n769449                                  Das Spiel        0      1978      \\N   \n842775                               Wu hu si hai        0      1992      \\N   \n969004  Burgenland 1945 - Historische Spurensuche        0      1995      \\N   \n701758                                Eat My Dust        0      1976      \\N   \n419583                            Forever My Love        0      1962      \\N   \n\n       runtimeMinutes                 genres            primaryName birthYear  \\\n769449             \\N                     \\N          Lutz Reichert      1951   \n842775             90  Action,Crime,Thriller  Blackie Shou-Liang Ko      1953   \n969004             32                  Short    Herbert Zechmeister        \\N   \n701758             89  Action,Comedy,Romance             Brad David      1947   \n419583            148          Drama,Romance        Vilma Degischer      1911   \n\n       deathYear                   primaryProfession  \\\n769449        \\N                               actor   \n842775      2003               actor,stunts,director   \n969004        \\N  production_manager,director,writer   \n701758        \\N                        actor,writer   \n419583      1992                             actress   \n\n                                 knownForTitles  \n769449  tt0806910,tt0108985,tt0103582,tt0090447  \n842775  tt0105845,tt0368813,tt0091431,tt0067009  \n969004  tt0112598,tt0114686,tt0144061,tt0390500  \n701758  tt0080319,tt0086567,tt0074454,tt0069840  \n419583  tt0056907,tt0050974,tt0049762,tt0048624  ",
            "text/html": "<div>\n<style scoped>\n    .dataframe tbody tr th:only-of-type {\n        vertical-align: middle;\n    }\n\n    .dataframe tbody tr th {\n        vertical-align: top;\n    }\n\n    .dataframe thead th {\n        text-align: right;\n    }\n</style>\n<table border=\"1\" class=\"dataframe\">\n  <thead>\n    <tr style=\"text-align: right;\">\n      <th></th>\n      <th>tconst</th>\n      <th>ordering</th>\n      <th>nconst</th>\n      <th>category</th>\n      <th>job</th>\n      <th>characters</th>\n      <th>titleType</th>\n      <th>primaryTitle</th>\n      <th>originalTitle</th>\n      <th>isAdult</th>\n      <th>startYear</th>\n      <th>endYear</th>\n      <th>runtimeMinutes</th>\n      <th>genres</th>\n      <th>primaryName</th>\n      <th>birthYear</th>\n      <th>deathYear</th>\n      <th>primaryProfession</th>\n      <th>knownForTitles</th>\n    </tr>\n  </thead>\n  <tbody>\n    <tr>\n      <th>769449</th>\n      <td>tt0078309</td>\n      <td>1</td>\n      <td>nm0717068</td>\n      <td>actor</td>\n      <td>\\N</td>\n      <td>\\N</td>\n      <td>tvMovie</td>\n      <td>Das Spiel</td>\n      <td>Das Spiel</td>\n      <td>0</td>\n      <td>1978</td>\n      <td>\\N</td>\n      <td>\\N</td>\n      <td>\\N</td>\n      <td>Lutz Reichert</td>\n      <td>1951</td>\n      <td>\\N</td>\n      <td>actor</td>\n      <td>tt0806910,tt0108985,tt0103582,tt0090447</td>\n    </tr>\n    <tr>\n      <th>842775</th>\n      <td>tt0105845</td>\n      <td>4</td>\n      <td>nm0461918</td>\n      <td>actor</td>\n      <td>\\N</td>\n      <td>[\"Big Mouth\"]</td>\n      <td>movie</td>\n      <td>Wu hu si hai</td>\n      <td>Wu hu si hai</td>\n      <td>0</td>\n      <td>1992</td>\n      <td>\\N</td>\n      <td>90</td>\n      <td>Action,Crime,Thriller</td>\n      <td>Blackie Shou-Liang Ko</td>\n      <td>1953</td>\n      <td>2003</td>\n      <td>actor,stunts,director</td>\n      <td>tt0105845,tt0368813,tt0091431,tt0067009</td>\n    </tr>\n    <tr>\n      <th>969004</th>\n      <td>tt0112598</td>\n      <td>1</td>\n      <td>nm0954128</td>\n      <td>director</td>\n      <td>\\N</td>\n      <td>\\N</td>\n      <td>short</td>\n      <td>Burgenland 1945 - Historische Spurensuche</td>\n      <td>Burgenland 1945 - Historische Spurensuche</td>\n      <td>0</td>\n      <td>1995</td>\n      <td>\\N</td>\n      <td>32</td>\n      <td>Short</td>\n      <td>Herbert Zechmeister</td>\n      <td>\\N</td>\n      <td>\\N</td>\n      <td>production_manager,director,writer</td>\n      <td>tt0112598,tt0114686,tt0144061,tt0390500</td>\n    </tr>\n    <tr>\n      <th>701758</th>\n      <td>tt0074454</td>\n      <td>3</td>\n      <td>nm0078525</td>\n      <td>actor</td>\n      <td>\\N</td>\n      <td>[\"Billy B. Westerby\"]</td>\n      <td>movie</td>\n      <td>Eat My Dust!</td>\n      <td>Eat My Dust</td>\n      <td>0</td>\n      <td>1976</td>\n      <td>\\N</td>\n      <td>89</td>\n      <td>Action,Comedy,Romance</td>\n      <td>Brad David</td>\n      <td>1947</td>\n      <td>\\N</td>\n      <td>actor,writer</td>\n      <td>tt0080319,tt0086567,tt0074454,tt0069840</td>\n    </tr>\n    <tr>\n      <th>419583</th>\n      <td>tt0055994</td>\n      <td>4</td>\n      <td>nm0214748</td>\n      <td>archive_footage</td>\n      <td>\\N</td>\n      <td>[\"Archduchess Sophie\"]</td>\n      <td>movie</td>\n      <td>Forever My Love</td>\n      <td>Forever My Love</td>\n      <td>0</td>\n      <td>1962</td>\n      <td>\\N</td>\n      <td>148</td>\n      <td>Drama,Romance</td>\n      <td>Vilma Degischer</td>\n      <td>1911</td>\n      <td>1992</td>\n      <td>actress</td>\n      <td>tt0056907,tt0050974,tt0049762,tt0048624</td>\n    </tr>\n  </tbody>\n</table>\n</div>"
          },
          "metadata": {}
        }
      ],
      "execution_count": 9
    },
    {
      "cell_type": "markdown",
      "source": "Describe all data to give an overview of the data.\n\nObservations:\n- Wrong type of many variables\n- A lot of NA values\n\nUseful data: (To improve after data cleaning)\n- 11 types of category in a movie (Actor, writer ...) and 52 diferents jobs in the filmaker industry.\n- 8 types of films (Movie, short ...)\n",
      "metadata": {
        "tags": [],
        "cell_id": "00014-25951d71-4b93-4deb-8f9c-ddc927fc4d25",
        "deepnote_cell_type": "markdown"
      }
    },
    {
      "cell_type": "code",
      "source": "df.describe(include='all')",
      "metadata": {
        "tags": [],
        "cell_id": "00010-f4605d0c-5b96-449e-93bc-669b1b93dfea",
        "deepnote_to_be_reexecuted": false,
        "source_hash": "b1cecf2d",
        "execution_millis": 101,
        "execution_start": 1619155376449,
        "deepnote_cell_type": "code"
      },
      "outputs": [
        {
          "output_type": "execute_result",
          "execution_count": 10,
          "data": {
            "application/vnd.deepnote.dataframe.v2+json": {
              "row_count": 11,
              "column_count": 19,
              "columns": [
                {
                  "name": "tconst",
                  "dtype": "object",
                  "stats": {
                    "unique_count": 4,
                    "nan_count": 7,
                    "categories": [
                      {
                        "name": "1000",
                        "count": 1
                      },
                      {
                        "name": "3 others",
                        "count": 3
                      },
                      {
                        "name": "Missing",
                        "count": 7
                      }
                    ]
                  }
                },
                {
                  "name": "ordering",
                  "dtype": "float64",
                  "stats": {
                    "unique_count": 8,
                    "nan_count": 3,
                    "min": "1.0",
                    "max": "1000.0",
                    "histogram": [
                      {
                        "bin_start": 1,
                        "bin_end": 100.9,
                        "count": 7
                      },
                      {
                        "bin_start": 100.9,
                        "bin_end": 200.8,
                        "count": 0
                      },
                      {
                        "bin_start": 200.8,
                        "bin_end": 300.70000000000005,
                        "count": 0
                      },
                      {
                        "bin_start": 300.70000000000005,
                        "bin_end": 400.6,
                        "count": 0
                      },
                      {
                        "bin_start": 400.6,
                        "bin_end": 500.5,
                        "count": 0
                      },
                      {
                        "bin_start": 500.5,
                        "bin_end": 600.4000000000001,
                        "count": 0
                      },
                      {
                        "bin_start": 600.4000000000001,
                        "bin_end": 700.3000000000001,
                        "count": 0
                      },
                      {
                        "bin_start": 700.3000000000001,
                        "bin_end": 800.2,
                        "count": 0
                      },
                      {
                        "bin_start": 800.2,
                        "bin_end": 900.1,
                        "count": 0
                      },
                      {
                        "bin_start": 900.1,
                        "bin_end": 1000,
                        "count": 1
                      }
                    ]
                  }
                },
                {
                  "name": "nconst",
                  "dtype": "object",
                  "stats": {
                    "unique_count": 4,
                    "nan_count": 7,
                    "categories": [
                      {
                        "name": "1000",
                        "count": 1
                      },
                      {
                        "name": "3 others",
                        "count": 3
                      },
                      {
                        "name": "Missing",
                        "count": 7
                      }
                    ]
                  }
                },
                {
                  "name": "category",
                  "dtype": "object",
                  "stats": {
                    "unique_count": 4,
                    "nan_count": 7,
                    "categories": [
                      {
                        "name": "1000",
                        "count": 1
                      },
                      {
                        "name": "3 others",
                        "count": 3
                      },
                      {
                        "name": "Missing",
                        "count": 7
                      }
                    ]
                  }
                },
                {
                  "name": "job",
                  "dtype": "object",
                  "stats": {
                    "unique_count": 4,
                    "nan_count": 7,
                    "categories": [
                      {
                        "name": "1000",
                        "count": 1
                      },
                      {
                        "name": "3 others",
                        "count": 3
                      },
                      {
                        "name": "Missing",
                        "count": 7
                      }
                    ]
                  }
                },
                {
                  "name": "characters",
                  "dtype": "object",
                  "stats": {
                    "unique_count": 4,
                    "nan_count": 7,
                    "categories": [
                      {
                        "name": "1000",
                        "count": 1
                      },
                      {
                        "name": "3 others",
                        "count": 3
                      },
                      {
                        "name": "Missing",
                        "count": 7
                      }
                    ]
                  }
                },
                {
                  "name": "titleType",
                  "dtype": "object",
                  "stats": {
                    "unique_count": 4,
                    "nan_count": 7,
                    "categories": [
                      {
                        "name": "1000",
                        "count": 1
                      },
                      {
                        "name": "3 others",
                        "count": 3
                      },
                      {
                        "name": "Missing",
                        "count": 7
                      }
                    ]
                  }
                },
                {
                  "name": "primaryTitle",
                  "dtype": "object",
                  "stats": {
                    "unique_count": 4,
                    "nan_count": 7,
                    "categories": [
                      {
                        "name": "1000",
                        "count": 1
                      },
                      {
                        "name": "3 others",
                        "count": 3
                      },
                      {
                        "name": "Missing",
                        "count": 7
                      }
                    ]
                  }
                },
                {
                  "name": "originalTitle",
                  "dtype": "object",
                  "stats": {
                    "unique_count": 4,
                    "nan_count": 7,
                    "categories": [
                      {
                        "name": "1000",
                        "count": 1
                      },
                      {
                        "name": "3 others",
                        "count": 3
                      },
                      {
                        "name": "Missing",
                        "count": 7
                      }
                    ]
                  }
                },
                {
                  "name": "isAdult",
                  "dtype": "float64",
                  "stats": {
                    "unique_count": 5,
                    "nan_count": 3,
                    "min": "0.0",
                    "max": "1000.0",
                    "histogram": [
                      {
                        "bin_start": 0,
                        "bin_end": 100,
                        "count": 7
                      },
                      {
                        "bin_start": 100,
                        "bin_end": 200,
                        "count": 0
                      },
                      {
                        "bin_start": 200,
                        "bin_end": 300,
                        "count": 0
                      },
                      {
                        "bin_start": 300,
                        "bin_end": 400,
                        "count": 0
                      },
                      {
                        "bin_start": 400,
                        "bin_end": 500,
                        "count": 0
                      },
                      {
                        "bin_start": 500,
                        "bin_end": 600,
                        "count": 0
                      },
                      {
                        "bin_start": 600,
                        "bin_end": 700,
                        "count": 0
                      },
                      {
                        "bin_start": 700,
                        "bin_end": 800,
                        "count": 0
                      },
                      {
                        "bin_start": 800,
                        "bin_end": 900,
                        "count": 0
                      },
                      {
                        "bin_start": 900,
                        "bin_end": 1000,
                        "count": 1
                      }
                    ]
                  }
                },
                {
                  "name": "startYear",
                  "dtype": "object",
                  "stats": {
                    "unique_count": 4,
                    "nan_count": 7,
                    "categories": [
                      {
                        "name": "1000",
                        "count": 1
                      },
                      {
                        "name": "3 others",
                        "count": 3
                      },
                      {
                        "name": "Missing",
                        "count": 7
                      }
                    ]
                  }
                },
                {
                  "name": "endYear",
                  "dtype": "object",
                  "stats": {
                    "unique_count": 4,
                    "nan_count": 7,
                    "categories": [
                      {
                        "name": "1000",
                        "count": 1
                      },
                      {
                        "name": "3 others",
                        "count": 3
                      },
                      {
                        "name": "Missing",
                        "count": 7
                      }
                    ]
                  }
                },
                {
                  "name": "runtimeMinutes",
                  "dtype": "object",
                  "stats": {
                    "unique_count": 4,
                    "nan_count": 7,
                    "categories": [
                      {
                        "name": "1000",
                        "count": 1
                      },
                      {
                        "name": "3 others",
                        "count": 3
                      },
                      {
                        "name": "Missing",
                        "count": 7
                      }
                    ]
                  }
                },
                {
                  "name": "genres",
                  "dtype": "object",
                  "stats": {
                    "unique_count": 4,
                    "nan_count": 7,
                    "categories": [
                      {
                        "name": "1000",
                        "count": 1
                      },
                      {
                        "name": "3 others",
                        "count": 3
                      },
                      {
                        "name": "Missing",
                        "count": 7
                      }
                    ]
                  }
                },
                {
                  "name": "primaryName",
                  "dtype": "object",
                  "stats": {
                    "unique_count": 4,
                    "nan_count": 7,
                    "categories": [
                      {
                        "name": "1000",
                        "count": 1
                      },
                      {
                        "name": "3 others",
                        "count": 3
                      },
                      {
                        "name": "Missing",
                        "count": 7
                      }
                    ]
                  }
                },
                {
                  "name": "birthYear",
                  "dtype": "object",
                  "stats": {
                    "unique_count": 4,
                    "nan_count": 7,
                    "categories": [
                      {
                        "name": "1000",
                        "count": 1
                      },
                      {
                        "name": "3 others",
                        "count": 3
                      },
                      {
                        "name": "Missing",
                        "count": 7
                      }
                    ]
                  }
                },
                {
                  "name": "deathYear",
                  "dtype": "object",
                  "stats": {
                    "unique_count": 4,
                    "nan_count": 7,
                    "categories": [
                      {
                        "name": "1000",
                        "count": 1
                      },
                      {
                        "name": "3 others",
                        "count": 3
                      },
                      {
                        "name": "Missing",
                        "count": 7
                      }
                    ]
                  }
                },
                {
                  "name": "primaryProfession",
                  "dtype": "object",
                  "stats": {
                    "unique_count": 4,
                    "nan_count": 7,
                    "categories": [
                      {
                        "name": "1000",
                        "count": 1
                      },
                      {
                        "name": "3 others",
                        "count": 3
                      },
                      {
                        "name": "Missing",
                        "count": 7
                      }
                    ]
                  }
                },
                {
                  "name": "knownForTitles",
                  "dtype": "object",
                  "stats": {
                    "unique_count": 4,
                    "nan_count": 7,
                    "categories": [
                      {
                        "name": "1000",
                        "count": 1
                      },
                      {
                        "name": "3 others",
                        "count": 3
                      },
                      {
                        "name": "Missing",
                        "count": 7
                      }
                    ]
                  }
                },
                {
                  "name": "_deepnote_index_column",
                  "dtype": "object"
                }
              ],
              "rows_top": [
                {
                  "tconst": "1000",
                  "ordering": "1000.0",
                  "nconst": "1000",
                  "category": "1000",
                  "job": "1000",
                  "characters": "1000",
                  "titleType": "1000",
                  "primaryTitle": "1000",
                  "originalTitle": "1000",
                  "isAdult": "1000.0",
                  "startYear": "1000",
                  "endYear": "1000",
                  "runtimeMinutes": "1000",
                  "genres": "1000",
                  "primaryName": "1000",
                  "birthYear": "1000",
                  "deathYear": "1000",
                  "primaryProfession": "1000",
                  "knownForTitles": "1000",
                  "_deepnote_index_column": "count"
                },
                {
                  "tconst": "999",
                  "ordering": "nan",
                  "nconst": "987",
                  "category": "11",
                  "job": "57",
                  "characters": "460",
                  "titleType": "7",
                  "primaryTitle": "996",
                  "originalTitle": "998",
                  "isAdult": "nan",
                  "startYear": "100",
                  "endYear": "23",
                  "runtimeMinutes": "133",
                  "genres": "220",
                  "primaryName": "987",
                  "birthYear": "127",
                  "deathYear": "103",
                  "primaryProfession": "276",
                  "knownForTitles": "987",
                  "_deepnote_index_column": "unique"
                },
                {
                  "tconst": "tt0041302",
                  "ordering": "nan",
                  "nconst": "nm0730018",
                  "category": "actor",
                  "job": "\\N",
                  "characters": "\\N",
                  "titleType": "movie",
                  "primaryTitle": "Tomorrow Is Too Late",
                  "originalTitle": "Bodas de sangre",
                  "isAdult": "nan",
                  "startYear": "1995",
                  "endYear": "\\N",
                  "runtimeMinutes": "\\N",
                  "genres": "Drama",
                  "primaryName": "Hal Roach",
                  "birthYear": "\\N",
                  "deathYear": "\\N",
                  "primaryProfession": "actor",
                  "knownForTitles": "tt0032871,tt0014429,tt0179522,tt0249631",
                  "_deepnote_index_column": "top"
                },
                {
                  "tconst": "2",
                  "ordering": "nan",
                  "nconst": "3",
                  "category": "318",
                  "job": "826",
                  "characters": "530",
                  "titleType": "768",
                  "primaryTitle": "2",
                  "originalTitle": "2",
                  "isAdult": "nan",
                  "startYear": "28",
                  "endYear": "967",
                  "runtimeMinutes": "105",
                  "genres": "162",
                  "primaryName": "3",
                  "birthYear": "174",
                  "deathYear": "412",
                  "primaryProfession": "129",
                  "knownForTitles": "3",
                  "_deepnote_index_column": "freq"
                },
                {
                  "tconst": "nan",
                  "ordering": "5.164",
                  "nconst": "nan",
                  "category": "nan",
                  "job": "nan",
                  "characters": "nan",
                  "titleType": "nan",
                  "primaryTitle": "nan",
                  "originalTitle": "nan",
                  "isAdult": "0.006",
                  "startYear": "nan",
                  "endYear": "nan",
                  "runtimeMinutes": "nan",
                  "genres": "nan",
                  "primaryName": "nan",
                  "birthYear": "nan",
                  "deathYear": "nan",
                  "primaryProfession": "nan",
                  "knownForTitles": "nan",
                  "_deepnote_index_column": "mean"
                },
                {
                  "tconst": "nan",
                  "ordering": "2.9338902010320207",
                  "nconst": "nan",
                  "category": "nan",
                  "job": "nan",
                  "characters": "nan",
                  "titleType": "nan",
                  "primaryTitle": "nan",
                  "originalTitle": "nan",
                  "isAdult": "0.07726558075864033",
                  "startYear": "nan",
                  "endYear": "nan",
                  "runtimeMinutes": "nan",
                  "genres": "nan",
                  "primaryName": "nan",
                  "birthYear": "nan",
                  "deathYear": "nan",
                  "primaryProfession": "nan",
                  "knownForTitles": "nan",
                  "_deepnote_index_column": "std"
                },
                {
                  "tconst": "nan",
                  "ordering": "1.0",
                  "nconst": "nan",
                  "category": "nan",
                  "job": "nan",
                  "characters": "nan",
                  "titleType": "nan",
                  "primaryTitle": "nan",
                  "originalTitle": "nan",
                  "isAdult": "0.0",
                  "startYear": "nan",
                  "endYear": "nan",
                  "runtimeMinutes": "nan",
                  "genres": "nan",
                  "primaryName": "nan",
                  "birthYear": "nan",
                  "deathYear": "nan",
                  "primaryProfession": "nan",
                  "knownForTitles": "nan",
                  "_deepnote_index_column": "min"
                },
                {
                  "tconst": "nan",
                  "ordering": "3.0",
                  "nconst": "nan",
                  "category": "nan",
                  "job": "nan",
                  "characters": "nan",
                  "titleType": "nan",
                  "primaryTitle": "nan",
                  "originalTitle": "nan",
                  "isAdult": "0.0",
                  "startYear": "nan",
                  "endYear": "nan",
                  "runtimeMinutes": "nan",
                  "genres": "nan",
                  "primaryName": "nan",
                  "birthYear": "nan",
                  "deathYear": "nan",
                  "primaryProfession": "nan",
                  "knownForTitles": "nan",
                  "_deepnote_index_column": "25%"
                },
                {
                  "tconst": "nan",
                  "ordering": "5.0",
                  "nconst": "nan",
                  "category": "nan",
                  "job": "nan",
                  "characters": "nan",
                  "titleType": "nan",
                  "primaryTitle": "nan",
                  "originalTitle": "nan",
                  "isAdult": "0.0",
                  "startYear": "nan",
                  "endYear": "nan",
                  "runtimeMinutes": "nan",
                  "genres": "nan",
                  "primaryName": "nan",
                  "birthYear": "nan",
                  "deathYear": "nan",
                  "primaryProfession": "nan",
                  "knownForTitles": "nan",
                  "_deepnote_index_column": "50%"
                },
                {
                  "tconst": "nan",
                  "ordering": "8.0",
                  "nconst": "nan",
                  "category": "nan",
                  "job": "nan",
                  "characters": "nan",
                  "titleType": "nan",
                  "primaryTitle": "nan",
                  "originalTitle": "nan",
                  "isAdult": "0.0",
                  "startYear": "nan",
                  "endYear": "nan",
                  "runtimeMinutes": "nan",
                  "genres": "nan",
                  "primaryName": "nan",
                  "birthYear": "nan",
                  "deathYear": "nan",
                  "primaryProfession": "nan",
                  "knownForTitles": "nan",
                  "_deepnote_index_column": "75%"
                },
                {
                  "tconst": "nan",
                  "ordering": "10.0",
                  "nconst": "nan",
                  "category": "nan",
                  "job": "nan",
                  "characters": "nan",
                  "titleType": "nan",
                  "primaryTitle": "nan",
                  "originalTitle": "nan",
                  "isAdult": "1.0",
                  "startYear": "nan",
                  "endYear": "nan",
                  "runtimeMinutes": "nan",
                  "genres": "nan",
                  "primaryName": "nan",
                  "birthYear": "nan",
                  "deathYear": "nan",
                  "primaryProfession": "nan",
                  "knownForTitles": "nan",
                  "_deepnote_index_column": "max"
                }
              ],
              "rows_bottom": null
            },
            "text/plain": "           tconst    ordering     nconst category   job characters titleType  \\\ncount        1000  1000.00000       1000     1000  1000       1000      1000   \nunique        999         NaN        987       11    57        460         7   \ntop     tt0041302         NaN  nm0730018    actor    \\N         \\N     movie   \nfreq            2         NaN          3      318   826        530       768   \nmean          NaN     5.16400        NaN      NaN   NaN        NaN       NaN   \nstd           NaN     2.93389        NaN      NaN   NaN        NaN       NaN   \nmin           NaN     1.00000        NaN      NaN   NaN        NaN       NaN   \n25%           NaN     3.00000        NaN      NaN   NaN        NaN       NaN   \n50%           NaN     5.00000        NaN      NaN   NaN        NaN       NaN   \n75%           NaN     8.00000        NaN      NaN   NaN        NaN       NaN   \nmax           NaN    10.00000        NaN      NaN   NaN        NaN       NaN   \n\n                primaryTitle    originalTitle      isAdult startYear endYear  \\\ncount                   1000             1000  1000.000000      1000    1000   \nunique                   996              998          NaN       100      23   \ntop     Tomorrow Is Too Late  Bodas de sangre          NaN      1995      \\N   \nfreq                       2                2          NaN        28     967   \nmean                     NaN              NaN     0.006000       NaN     NaN   \nstd                      NaN              NaN     0.077266       NaN     NaN   \nmin                      NaN              NaN     0.000000       NaN     NaN   \n25%                      NaN              NaN     0.000000       NaN     NaN   \n50%                      NaN              NaN     0.000000       NaN     NaN   \n75%                      NaN              NaN     0.000000       NaN     NaN   \nmax                      NaN              NaN     1.000000       NaN     NaN   \n\n       runtimeMinutes genres primaryName birthYear deathYear  \\\ncount            1000   1000        1000      1000      1000   \nunique            133    220         987       127       103   \ntop                \\N  Drama   Hal Roach        \\N        \\N   \nfreq              105    162           3       174       412   \nmean              NaN    NaN         NaN       NaN       NaN   \nstd               NaN    NaN         NaN       NaN       NaN   \nmin               NaN    NaN         NaN       NaN       NaN   \n25%               NaN    NaN         NaN       NaN       NaN   \n50%               NaN    NaN         NaN       NaN       NaN   \n75%               NaN    NaN         NaN       NaN       NaN   \nmax               NaN    NaN         NaN       NaN       NaN   \n\n       primaryProfession                           knownForTitles  \ncount               1000                                     1000  \nunique               276                                      987  \ntop                actor  tt0032871,tt0014429,tt0179522,tt0249631  \nfreq                 129                                        3  \nmean                 NaN                                      NaN  \nstd                  NaN                                      NaN  \nmin                  NaN                                      NaN  \n25%                  NaN                                      NaN  \n50%                  NaN                                      NaN  \n75%                  NaN                                      NaN  \nmax                  NaN                                      NaN  ",
            "text/html": "<div>\n<style scoped>\n    .dataframe tbody tr th:only-of-type {\n        vertical-align: middle;\n    }\n\n    .dataframe tbody tr th {\n        vertical-align: top;\n    }\n\n    .dataframe thead th {\n        text-align: right;\n    }\n</style>\n<table border=\"1\" class=\"dataframe\">\n  <thead>\n    <tr style=\"text-align: right;\">\n      <th></th>\n      <th>tconst</th>\n      <th>ordering</th>\n      <th>nconst</th>\n      <th>category</th>\n      <th>job</th>\n      <th>characters</th>\n      <th>titleType</th>\n      <th>primaryTitle</th>\n      <th>originalTitle</th>\n      <th>isAdult</th>\n      <th>startYear</th>\n      <th>endYear</th>\n      <th>runtimeMinutes</th>\n      <th>genres</th>\n      <th>primaryName</th>\n      <th>birthYear</th>\n      <th>deathYear</th>\n      <th>primaryProfession</th>\n      <th>knownForTitles</th>\n    </tr>\n  </thead>\n  <tbody>\n    <tr>\n      <th>count</th>\n      <td>1000</td>\n      <td>1000.00000</td>\n      <td>1000</td>\n      <td>1000</td>\n      <td>1000</td>\n      <td>1000</td>\n      <td>1000</td>\n      <td>1000</td>\n      <td>1000</td>\n      <td>1000.000000</td>\n      <td>1000</td>\n      <td>1000</td>\n      <td>1000</td>\n      <td>1000</td>\n      <td>1000</td>\n      <td>1000</td>\n      <td>1000</td>\n      <td>1000</td>\n      <td>1000</td>\n    </tr>\n    <tr>\n      <th>unique</th>\n      <td>999</td>\n      <td>NaN</td>\n      <td>987</td>\n      <td>11</td>\n      <td>57</td>\n      <td>460</td>\n      <td>7</td>\n      <td>996</td>\n      <td>998</td>\n      <td>NaN</td>\n      <td>100</td>\n      <td>23</td>\n      <td>133</td>\n      <td>220</td>\n      <td>987</td>\n      <td>127</td>\n      <td>103</td>\n      <td>276</td>\n      <td>987</td>\n    </tr>\n    <tr>\n      <th>top</th>\n      <td>tt0041302</td>\n      <td>NaN</td>\n      <td>nm0730018</td>\n      <td>actor</td>\n      <td>\\N</td>\n      <td>\\N</td>\n      <td>movie</td>\n      <td>Tomorrow Is Too Late</td>\n      <td>Bodas de sangre</td>\n      <td>NaN</td>\n      <td>1995</td>\n      <td>\\N</td>\n      <td>\\N</td>\n      <td>Drama</td>\n      <td>Hal Roach</td>\n      <td>\\N</td>\n      <td>\\N</td>\n      <td>actor</td>\n      <td>tt0032871,tt0014429,tt0179522,tt0249631</td>\n    </tr>\n    <tr>\n      <th>freq</th>\n      <td>2</td>\n      <td>NaN</td>\n      <td>3</td>\n      <td>318</td>\n      <td>826</td>\n      <td>530</td>\n      <td>768</td>\n      <td>2</td>\n      <td>2</td>\n      <td>NaN</td>\n      <td>28</td>\n      <td>967</td>\n      <td>105</td>\n      <td>162</td>\n      <td>3</td>\n      <td>174</td>\n      <td>412</td>\n      <td>129</td>\n      <td>3</td>\n    </tr>\n    <tr>\n      <th>mean</th>\n      <td>NaN</td>\n      <td>5.16400</td>\n      <td>NaN</td>\n      <td>NaN</td>\n      <td>NaN</td>\n      <td>NaN</td>\n      <td>NaN</td>\n      <td>NaN</td>\n      <td>NaN</td>\n      <td>0.006000</td>\n      <td>NaN</td>\n      <td>NaN</td>\n      <td>NaN</td>\n      <td>NaN</td>\n      <td>NaN</td>\n      <td>NaN</td>\n      <td>NaN</td>\n      <td>NaN</td>\n      <td>NaN</td>\n    </tr>\n    <tr>\n      <th>std</th>\n      <td>NaN</td>\n      <td>2.93389</td>\n      <td>NaN</td>\n      <td>NaN</td>\n      <td>NaN</td>\n      <td>NaN</td>\n      <td>NaN</td>\n      <td>NaN</td>\n      <td>NaN</td>\n      <td>0.077266</td>\n      <td>NaN</td>\n      <td>NaN</td>\n      <td>NaN</td>\n      <td>NaN</td>\n      <td>NaN</td>\n      <td>NaN</td>\n      <td>NaN</td>\n      <td>NaN</td>\n      <td>NaN</td>\n    </tr>\n    <tr>\n      <th>min</th>\n      <td>NaN</td>\n      <td>1.00000</td>\n      <td>NaN</td>\n      <td>NaN</td>\n      <td>NaN</td>\n      <td>NaN</td>\n      <td>NaN</td>\n      <td>NaN</td>\n      <td>NaN</td>\n      <td>0.000000</td>\n      <td>NaN</td>\n      <td>NaN</td>\n      <td>NaN</td>\n      <td>NaN</td>\n      <td>NaN</td>\n      <td>NaN</td>\n      <td>NaN</td>\n      <td>NaN</td>\n      <td>NaN</td>\n    </tr>\n    <tr>\n      <th>25%</th>\n      <td>NaN</td>\n      <td>3.00000</td>\n      <td>NaN</td>\n      <td>NaN</td>\n      <td>NaN</td>\n      <td>NaN</td>\n      <td>NaN</td>\n      <td>NaN</td>\n      <td>NaN</td>\n      <td>0.000000</td>\n      <td>NaN</td>\n      <td>NaN</td>\n      <td>NaN</td>\n      <td>NaN</td>\n      <td>NaN</td>\n      <td>NaN</td>\n      <td>NaN</td>\n      <td>NaN</td>\n      <td>NaN</td>\n    </tr>\n    <tr>\n      <th>50%</th>\n      <td>NaN</td>\n      <td>5.00000</td>\n      <td>NaN</td>\n      <td>NaN</td>\n      <td>NaN</td>\n      <td>NaN</td>\n      <td>NaN</td>\n      <td>NaN</td>\n      <td>NaN</td>\n      <td>0.000000</td>\n      <td>NaN</td>\n      <td>NaN</td>\n      <td>NaN</td>\n      <td>NaN</td>\n      <td>NaN</td>\n      <td>NaN</td>\n      <td>NaN</td>\n      <td>NaN</td>\n      <td>NaN</td>\n    </tr>\n    <tr>\n      <th>75%</th>\n      <td>NaN</td>\n      <td>8.00000</td>\n      <td>NaN</td>\n      <td>NaN</td>\n      <td>NaN</td>\n      <td>NaN</td>\n      <td>NaN</td>\n      <td>NaN</td>\n      <td>NaN</td>\n      <td>0.000000</td>\n      <td>NaN</td>\n      <td>NaN</td>\n      <td>NaN</td>\n      <td>NaN</td>\n      <td>NaN</td>\n      <td>NaN</td>\n      <td>NaN</td>\n      <td>NaN</td>\n      <td>NaN</td>\n    </tr>\n    <tr>\n      <th>max</th>\n      <td>NaN</td>\n      <td>10.00000</td>\n      <td>NaN</td>\n      <td>NaN</td>\n      <td>NaN</td>\n      <td>NaN</td>\n      <td>NaN</td>\n      <td>NaN</td>\n      <td>NaN</td>\n      <td>1.000000</td>\n      <td>NaN</td>\n      <td>NaN</td>\n      <td>NaN</td>\n      <td>NaN</td>\n      <td>NaN</td>\n      <td>NaN</td>\n      <td>NaN</td>\n      <td>NaN</td>\n      <td>NaN</td>\n    </tr>\n  </tbody>\n</table>\n</div>"
          },
          "metadata": {}
        }
      ],
      "execution_count": 10
    },
    {
      "cell_type": "markdown",
      "source": "We were focusing on the main information, due this reason we delete some columns: characters (role in the movie) and primaryTitle (we will work with original title).",
      "metadata": {
        "tags": [],
        "cell_id": "00016-93c76115-42ac-43c2-8e27-7a18d4d95dc5",
        "deepnote_cell_type": "markdown"
      }
    },
    {
      "cell_type": "code",
      "source": "df = df.drop(['characters','primaryTitle'], axis=1)",
      "metadata": {
        "tags": [],
        "cell_id": "00017-b897afae-f077-4e99-801a-a668bfa6bbb2",
        "deepnote_to_be_reexecuted": false,
        "source_hash": "a2fa861",
        "execution_millis": 3,
        "execution_start": 1619155376546,
        "deepnote_cell_type": "code"
      },
      "outputs": [],
      "execution_count": 11
    },
    {
      "cell_type": "markdown",
      "source": "# Not defined values\n\nIn the previous head commands we see a lot of \\N values. This values need to be converted to NAN values in order to clean the data.",
      "metadata": {
        "tags": [],
        "cell_id": "00018-508d64a4-d325-41a1-a780-f156519a3c3e",
        "deepnote_cell_type": "markdown"
      }
    },
    {
      "cell_type": "code",
      "source": "df['endYear'].describe()",
      "metadata": {
        "tags": [],
        "cell_id": "00019-b11f08ed-1e4d-4475-8659-3437627dd2e4",
        "deepnote_to_be_reexecuted": false,
        "source_hash": "1ed8c1",
        "execution_millis": 12,
        "execution_start": 1619155376551,
        "deepnote_cell_type": "code"
      },
      "outputs": [
        {
          "output_type": "execute_result",
          "execution_count": 12,
          "data": {
            "text/plain": "count     1000\nunique      23\ntop         \\N\nfreq       967\nName: endYear, dtype: object"
          },
          "metadata": {}
        }
      ],
      "execution_count": 12
    },
    {
      "cell_type": "markdown",
      "source": "Verifing the fact that \\N is nota a null value.",
      "metadata": {
        "tags": [],
        "cell_id": "00020-9aff9e8d-d767-4968-b951-960451120bb1",
        "deepnote_cell_type": "markdown"
      }
    },
    {
      "cell_type": "code",
      "source": "df['endYear'].isnull().sum()",
      "metadata": {
        "tags": [],
        "cell_id": "00020-8bf5cc3a-fb7c-4ec5-8e92-c2112bfd0c63",
        "deepnote_to_be_reexecuted": false,
        "source_hash": "5bcc5e8f",
        "execution_millis": 14,
        "execution_start": 1619155376564,
        "deepnote_cell_type": "code"
      },
      "outputs": [
        {
          "output_type": "execute_result",
          "execution_count": 13,
          "data": {
            "text/plain": "0"
          },
          "metadata": {}
        }
      ],
      "execution_count": 13
    },
    {
      "cell_type": "markdown",
      "source": "Replacing all \\N for nan values",
      "metadata": {
        "tags": [],
        "cell_id": "00022-a115ccf8-bedd-4528-b254-29f458e18041",
        "deepnote_cell_type": "markdown"
      }
    },
    {
      "cell_type": "code",
      "source": "df = df.replace(\"\\\\N\", np.nan)",
      "metadata": {
        "tags": [],
        "cell_id": "00023-8a334057-3298-43ab-8a09-772da60c01ea",
        "deepnote_to_be_reexecuted": false,
        "source_hash": "2da62b99",
        "execution_millis": 1,
        "execution_start": 1619155376599,
        "deepnote_cell_type": "code"
      },
      "outputs": [],
      "execution_count": 14
    },
    {
      "cell_type": "markdown",
      "source": "Now we have almost all the sample (1000 registers). With a null value, because the majority of the dataset are movies that only have startYear value.",
      "metadata": {
        "tags": [],
        "cell_id": "00024-6c92b6cc-197d-4890-9a6a-70cb123c22d4",
        "deepnote_cell_type": "markdown"
      }
    },
    {
      "cell_type": "code",
      "source": "df['endYear'].isnull().sum()",
      "metadata": {
        "tags": [],
        "cell_id": "00022-a7697255-ce8f-409a-b5f8-01255b64b34a",
        "deepnote_to_be_reexecuted": false,
        "source_hash": "5bcc5e8f",
        "execution_millis": 14,
        "execution_start": 1619155376600,
        "deepnote_cell_type": "code"
      },
      "outputs": [
        {
          "output_type": "execute_result",
          "execution_count": 15,
          "data": {
            "text/plain": "967"
          },
          "metadata": {}
        }
      ],
      "execution_count": 15
    },
    {
      "cell_type": "markdown",
      "source": "Now take a look about how many values are null per column",
      "metadata": {
        "tags": [],
        "cell_id": "00026-4e0b30a7-be4d-487c-9fb3-50a42b861930",
        "deepnote_cell_type": "markdown"
      }
    },
    {
      "cell_type": "code",
      "source": "df.isnull().sum()",
      "metadata": {
        "tags": [],
        "cell_id": "00027-7ded0947-b3de-4221-a61a-1b0d6de291de",
        "deepnote_to_be_reexecuted": false,
        "source_hash": "f3dd26da",
        "execution_millis": 13,
        "execution_start": 1619155376601,
        "deepnote_cell_type": "code"
      },
      "outputs": [
        {
          "output_type": "execute_result",
          "execution_count": 16,
          "data": {
            "text/plain": "tconst                 0\nordering               0\nnconst                 0\ncategory               0\njob                  826\ntitleType              0\noriginalTitle          0\nisAdult                0\nstartYear              0\nendYear              967\nruntimeMinutes       105\ngenres                54\nprimaryName            0\nbirthYear            174\ndeathYear            412\nprimaryProfession      0\nknownForTitles         0\ndtype: int64"
          },
          "metadata": {}
        }
      ],
      "execution_count": 16
    },
    {
      "cell_type": "markdown",
      "source": "Three columns have more than 50% of null values. Let see some of this registers.",
      "metadata": {
        "tags": [],
        "cell_id": "00028-5fcdde38-e313-4328-82cd-6ab31b3c940e",
        "deepnote_cell_type": "markdown"
      }
    },
    {
      "cell_type": "code",
      "source": "df['job'].head(20)",
      "metadata": {
        "tags": [],
        "cell_id": "00029-588b6e1c-65f6-4c8e-b5a6-c642dcdb0f3c",
        "deepnote_to_be_reexecuted": false,
        "source_hash": "62f44c1b",
        "execution_millis": 12,
        "execution_start": 1619155376602,
        "deepnote_cell_type": "code"
      },
      "outputs": [
        {
          "output_type": "execute_result",
          "execution_count": 17,
          "data": {
            "text/plain": "769449               NaN\n842775               NaN\n969004               NaN\n701758               NaN\n419583               NaN\n462996               NaN\n526575               NaN\n1096      original story\n724035               NaN\n611036               NaN\n858120               NaN\n990561               NaN\n869868               NaN\n752808             story\n181641               NaN\n897209               NaN\n216571               NaN\n615022               NaN\n966323               NaN\n543162               NaN\nName: job, dtype: object"
          },
          "metadata": {}
        }
      ],
      "execution_count": 17
    },
    {
      "cell_type": "markdown",
      "source": "Jobs contain an special role in the production of the movie. This isn't an important information in this stage. So we delete this columns.",
      "metadata": {
        "tags": [],
        "cell_id": "00031-71775387-4eb9-4020-afeb-06b6341715d3",
        "deepnote_cell_type": "markdown"
      }
    },
    {
      "cell_type": "code",
      "source": "df = df.drop(['job'], axis=1)",
      "metadata": {
        "tags": [],
        "cell_id": "00032-a698fe19-ba0f-4672-8516-9612f363edc7",
        "deepnote_to_be_reexecuted": false,
        "source_hash": "edbe7510",
        "execution_millis": 2,
        "execution_start": 1619155376612,
        "deepnote_cell_type": "code"
      },
      "outputs": [],
      "execution_count": 18
    },
    {
      "cell_type": "markdown",
      "source": "Primary proffesion is a list of professions of the persons. It's an interesting information but is beyond the scope of the first stage. We will work with the Category column that contain the role of the person in the movie.",
      "metadata": {
        "tags": [],
        "cell_id": "00032-c52afbb8-4ba5-4c3f-9c67-02300bcec080",
        "deepnote_cell_type": "markdown"
      }
    },
    {
      "cell_type": "code",
      "source": "df = df.drop(['primaryProfession'], axis=1)",
      "metadata": {
        "tags": [],
        "cell_id": "00033-9ac56475-1ecb-4f42-b2aa-66a08b97022d",
        "deepnote_to_be_reexecuted": false,
        "source_hash": "13974b88",
        "execution_millis": 1,
        "execution_start": 1619155376661,
        "deepnote_cell_type": "code"
      },
      "outputs": [],
      "execution_count": 19
    },
    {
      "cell_type": "markdown",
      "source": "End year column has 96.9% of the sample as null values, lets take a look of these registers",
      "metadata": {
        "tags": [],
        "cell_id": "00032-54673bec-9ad1-4871-b84c-7eeb67f6ab82",
        "deepnote_cell_type": "markdown"
      }
    },
    {
      "cell_type": "code",
      "source": "df[df['endYear'].notnull()]",
      "metadata": {
        "tags": [],
        "cell_id": "00033-678f39dc-fedb-403d-b591-970257419b65",
        "deepnote_to_be_reexecuted": false,
        "source_hash": "80ce19cf",
        "execution_millis": 57,
        "execution_start": 1619155376662,
        "deepnote_cell_type": "code"
      },
      "outputs": [
        {
          "output_type": "execute_result",
          "execution_count": 20,
          "data": {
            "application/vnd.deepnote.dataframe.v2+json": {
              "row_count": 33,
              "column_count": 15,
              "columns": [
                {
                  "name": "tconst",
                  "dtype": "object",
                  "stats": {
                    "unique_count": 33,
                    "nan_count": 0,
                    "categories": [
                      {
                        "name": "tt0088508",
                        "count": 1
                      },
                      {
                        "name": "tt0120978",
                        "count": 1
                      },
                      {
                        "name": "31 others",
                        "count": 31
                      }
                    ]
                  }
                },
                {
                  "name": "ordering",
                  "dtype": "int64",
                  "stats": {
                    "unique_count": 9,
                    "nan_count": 0,
                    "min": "1",
                    "max": "10",
                    "histogram": [
                      {
                        "bin_start": 1,
                        "bin_end": 1.9,
                        "count": 2
                      },
                      {
                        "bin_start": 1.9,
                        "bin_end": 2.8,
                        "count": 2
                      },
                      {
                        "bin_start": 2.8,
                        "bin_end": 3.7,
                        "count": 4
                      },
                      {
                        "bin_start": 3.7,
                        "bin_end": 4.6,
                        "count": 3
                      },
                      {
                        "bin_start": 4.6,
                        "bin_end": 5.5,
                        "count": 4
                      },
                      {
                        "bin_start": 5.5,
                        "bin_end": 6.4,
                        "count": 0
                      },
                      {
                        "bin_start": 6.4,
                        "bin_end": 7.3,
                        "count": 8
                      },
                      {
                        "bin_start": 7.3,
                        "bin_end": 8.2,
                        "count": 3
                      },
                      {
                        "bin_start": 8.2,
                        "bin_end": 9.1,
                        "count": 4
                      },
                      {
                        "bin_start": 9.1,
                        "bin_end": 10,
                        "count": 3
                      }
                    ]
                  }
                },
                {
                  "name": "nconst",
                  "dtype": "object",
                  "stats": {
                    "unique_count": 33,
                    "nan_count": 0,
                    "categories": [
                      {
                        "name": "nm0453447",
                        "count": 1
                      },
                      {
                        "name": "nm0395443",
                        "count": 1
                      },
                      {
                        "name": "31 others",
                        "count": 31
                      }
                    ]
                  }
                },
                {
                  "name": "category",
                  "dtype": "object",
                  "stats": {
                    "unique_count": 6,
                    "nan_count": 0,
                    "categories": [
                      {
                        "name": "actor",
                        "count": 20
                      },
                      {
                        "name": "actress",
                        "count": 8
                      },
                      {
                        "name": "4 others",
                        "count": 5
                      }
                    ]
                  }
                },
                {
                  "name": "titleType",
                  "dtype": "object",
                  "stats": {
                    "unique_count": 2,
                    "nan_count": 0,
                    "categories": [
                      {
                        "name": "tvSeries",
                        "count": 26
                      },
                      {
                        "name": "tvMiniSeries",
                        "count": 7
                      }
                    ]
                  }
                },
                {
                  "name": "originalTitle",
                  "dtype": "object",
                  "stats": {
                    "unique_count": 33,
                    "nan_count": 0,
                    "categories": [
                      {
                        "name": "Double Dare",
                        "count": 1
                      },
                      {
                        "name": "The Kit Curran Radio Show",
                        "count": 1
                      },
                      {
                        "name": "31 others",
                        "count": 31
                      }
                    ]
                  }
                },
                {
                  "name": "isAdult",
                  "dtype": "int64",
                  "stats": {
                    "unique_count": 1,
                    "nan_count": 0,
                    "min": "0",
                    "max": "0",
                    "histogram": [
                      {
                        "bin_start": -0.5,
                        "bin_end": -0.4,
                        "count": 0
                      },
                      {
                        "bin_start": -0.4,
                        "bin_end": -0.3,
                        "count": 0
                      },
                      {
                        "bin_start": -0.3,
                        "bin_end": -0.19999999999999996,
                        "count": 0
                      },
                      {
                        "bin_start": -0.19999999999999996,
                        "bin_end": -0.09999999999999998,
                        "count": 0
                      },
                      {
                        "bin_start": -0.09999999999999998,
                        "bin_end": 0,
                        "count": 0
                      },
                      {
                        "bin_start": 0,
                        "bin_end": 0.10000000000000009,
                        "count": 33
                      },
                      {
                        "bin_start": 0.10000000000000009,
                        "bin_end": 0.20000000000000007,
                        "count": 0
                      },
                      {
                        "bin_start": 0.20000000000000007,
                        "bin_end": 0.30000000000000004,
                        "count": 0
                      },
                      {
                        "bin_start": 0.30000000000000004,
                        "bin_end": 0.4,
                        "count": 0
                      },
                      {
                        "bin_start": 0.4,
                        "bin_end": 0.5,
                        "count": 0
                      }
                    ]
                  }
                },
                {
                  "name": "startYear",
                  "dtype": "object",
                  "stats": {
                    "unique_count": 22,
                    "nan_count": 0,
                    "categories": [
                      {
                        "name": "1984",
                        "count": 5
                      },
                      {
                        "name": "1985",
                        "count": 3
                      },
                      {
                        "name": "20 others",
                        "count": 25
                      }
                    ]
                  }
                },
                {
                  "name": "endYear",
                  "dtype": "object",
                  "stats": {
                    "unique_count": 22,
                    "nan_count": 0,
                    "categories": [
                      {
                        "name": "1984",
                        "count": 5
                      },
                      {
                        "name": "1997",
                        "count": 3
                      },
                      {
                        "name": "20 others",
                        "count": 25
                      }
                    ]
                  }
                },
                {
                  "name": "runtimeMinutes",
                  "dtype": "object",
                  "stats": {
                    "unique_count": 14,
                    "nan_count": 3,
                    "categories": [
                      {
                        "name": "30",
                        "count": 12
                      },
                      {
                        "name": "13 others",
                        "count": 18
                      },
                      {
                        "name": "Missing",
                        "count": 3
                      }
                    ]
                  }
                },
                {
                  "name": "genres",
                  "dtype": "object",
                  "stats": {
                    "unique_count": 20,
                    "nan_count": 2,
                    "categories": [
                      {
                        "name": "Comedy",
                        "count": 10
                      },
                      {
                        "name": "19 others",
                        "count": 21
                      },
                      {
                        "name": "Missing",
                        "count": 2
                      }
                    ]
                  }
                },
                {
                  "name": "primaryName",
                  "dtype": "object",
                  "stats": {
                    "unique_count": 33,
                    "nan_count": 0,
                    "categories": [
                      {
                        "name": "Evan C. Kim",
                        "count": 1
                      },
                      {
                        "name": "John Horsley",
                        "count": 1
                      },
                      {
                        "name": "31 others",
                        "count": 31
                      }
                    ]
                  }
                },
                {
                  "name": "birthYear",
                  "dtype": "object",
                  "stats": {
                    "unique_count": 22,
                    "nan_count": 5,
                    "categories": [
                      {
                        "name": "1948",
                        "count": 2
                      },
                      {
                        "name": "21 others",
                        "count": 26
                      },
                      {
                        "name": "Missing",
                        "count": 5
                      }
                    ]
                  }
                },
                {
                  "name": "deathYear",
                  "dtype": "object",
                  "stats": {
                    "unique_count": 9,
                    "nan_count": 24,
                    "categories": [
                      {
                        "name": "2014",
                        "count": 1
                      },
                      {
                        "name": "8 others",
                        "count": 8
                      },
                      {
                        "name": "Missing",
                        "count": 24
                      }
                    ]
                  }
                },
                {
                  "name": "knownForTitles",
                  "dtype": "object",
                  "stats": {
                    "unique_count": 33,
                    "nan_count": 0,
                    "categories": [
                      {
                        "name": "tt0082146,tt0085106,tt0094963,tt0076257",
                        "count": 1
                      },
                      {
                        "name": "tt0044637,tt0073990,tt0124218,tt0329369",
                        "count": 1
                      },
                      {
                        "name": "31 others",
                        "count": 31
                      }
                    ]
                  }
                },
                {
                  "name": "_deepnote_index_column",
                  "dtype": "int64"
                }
              ],
              "rows_top": [
                {
                  "tconst": "tt0088508",
                  "ordering": 7,
                  "nconst": "nm0453447",
                  "category": "actor",
                  "titleType": "tvSeries",
                  "originalTitle": "Double Dare",
                  "isAdult": 0,
                  "startYear": "1985",
                  "endYear": "1985",
                  "runtimeMinutes": "60",
                  "genres": "Drama",
                  "primaryName": "Evan C. Kim",
                  "birthYear": "1953",
                  "deathYear": "nan",
                  "knownForTitles": "tt0082146,tt0085106,tt0094963,tt0076257",
                  "_deepnote_index_column": 724035
                },
                {
                  "tconst": "tt0120978",
                  "ordering": 7,
                  "nconst": "nm0395443",
                  "category": "actor",
                  "titleType": "tvSeries",
                  "originalTitle": "The Kit Curran Radio Show",
                  "isAdult": 0,
                  "startYear": "1984",
                  "endYear": "1984",
                  "runtimeMinutes": "24",
                  "genres": "Comedy",
                  "primaryName": "John Horsley",
                  "birthYear": "1920",
                  "deathYear": "2014",
                  "knownForTitles": "tt0044637,tt0073990,tt0124218,tt0329369",
                  "_deepnote_index_column": 475347
                },
                {
                  "tconst": "tt0083464",
                  "ordering": 9,
                  "nconst": "nm0546004",
                  "category": "actress",
                  "titleType": "tvSeries",
                  "originalTitle": "The Phoenix",
                  "isAdult": 0,
                  "startYear": "1981",
                  "endYear": "1982",
                  "runtimeMinutes": "60",
                  "genres": "Sci-Fi",
                  "primaryName": "Andrea Marcovicci",
                  "birthYear": "1948",
                  "deathYear": "nan",
                  "knownForTitles": "tt7043012,tt0086346,tt0078740,tt0074554",
                  "_deepnote_index_column": 620055
                },
                {
                  "tconst": "tt0076045",
                  "ordering": 9,
                  "nconst": "nm0695909",
                  "category": "producer",
                  "titleType": "tvSeries",
                  "originalTitle": "The Fosdyke Saga",
                  "isAdult": 0,
                  "startYear": "1977",
                  "endYear": "1983",
                  "runtimeMinutes": "15",
                  "genres": "Comedy",
                  "primaryName": "Tara Prem",
                  "birthYear": "1946",
                  "deathYear": "nan",
                  "knownForTitles": "tt0259806,tt0088102,tt0165592,tt0175708",
                  "_deepnote_index_column": 729364
                },
                {
                  "tconst": "tt0103466",
                  "ordering": 2,
                  "nconst": "nm0001787",
                  "category": "actor",
                  "titleType": "tvSeries",
                  "originalTitle": "The Larry Sanders Show",
                  "isAdult": 0,
                  "startYear": "1992",
                  "endYear": "1998",
                  "runtimeMinutes": "30",
                  "genres": "Comedy",
                  "primaryName": "Jeffrey Tambor",
                  "birthYear": "1944",
                  "deathYear": "nan",
                  "knownForTitles": "tt3502262,tt0170016,tt0367279,tt4686844",
                  "_deepnote_index_column": 772807
                },
                {
                  "tconst": "tt0118453",
                  "ordering": 10,
                  "nconst": "nm0157915",
                  "category": "actor",
                  "titleType": "tvMiniSeries",
                  "originalTitle": "Rough Riders",
                  "isAdult": 0,
                  "startYear": "1997",
                  "endYear": "1997",
                  "runtimeMinutes": "240",
                  "genres": "Action,Drama,History",
                  "primaryName": "Nick Chinlund",
                  "birthYear": "1961",
                  "deathYear": "nan",
                  "knownForTitles": "tt0118880,tt0296572,tt0139654,tt0314353",
                  "_deepnote_index_column": 965347
                },
                {
                  "tconst": "tt0120928",
                  "ordering": 7,
                  "nconst": "nm0788332",
                  "category": "actor",
                  "titleType": "tvMiniSeries",
                  "originalTitle": "The Big Battalions",
                  "isAdult": 0,
                  "startYear": "1992",
                  "endYear": "1992",
                  "runtimeMinutes": "360",
                  "genres": "Drama",
                  "primaryName": "Michael Shannon",
                  "birthYear": "1943",
                  "deathYear": "nan",
                  "knownForTitles": "tt1077368,tt1486192,tt0081573,tt0091419",
                  "_deepnote_index_column": 735440
                },
                {
                  "tconst": "tt0073961",
                  "ordering": 5,
                  "nconst": "nm0833688",
                  "category": "actor",
                  "titleType": "tvSeries",
                  "originalTitle": "Baa Baa Black Sheep",
                  "isAdult": 0,
                  "startYear": "1976",
                  "endYear": "1978",
                  "runtimeMinutes": "60",
                  "genres": "Action,Adventure,Drama",
                  "primaryName": "W.K. Stratton",
                  "birthYear": "1950",
                  "deathYear": "nan",
                  "knownForTitles": "tt0455407,tt0452625,tt0465602,tt0985694",
                  "_deepnote_index_column": 734331
                },
                {
                  "tconst": "tt0069430",
                  "ordering": 7,
                  "nconst": "nm0460319",
                  "category": "cinematographer",
                  "titleType": "tvSeries",
                  "originalTitle": "Tårtan",
                  "isAdult": 0,
                  "startYear": "1973",
                  "endYear": "1973",
                  "runtimeMinutes": "170",
                  "genres": "Comedy,Family",
                  "primaryName": "Berndt Klyvare",
                  "birthYear": "1929",
                  "deathYear": "2008",
                  "knownForTitles": "tt0069430,tt5330430,tt9496134,tt0062191",
                  "_deepnote_index_column": 628976
                },
                {
                  "tconst": "tt0103451",
                  "ordering": 3,
                  "nconst": "nm0123268",
                  "category": "actor",
                  "titleType": "tvSeries",
                  "originalTitle": "The Jon Stewart Show",
                  "isAdult": 0,
                  "startYear": "1993",
                  "endYear": "1995",
                  "runtimeMinutes": "30",
                  "genres": "Comedy,Talk-Show",
                  "primaryName": "Carl Burrows",
                  "birthYear": "nan",
                  "deathYear": "nan",
                  "knownForTitles": "tt2081178,tt0385841,tt0126916,tt0852975",
                  "_deepnote_index_column": 933837
                },
                {
                  "tconst": "tt0118456",
                  "ordering": 1,
                  "nconst": "nm0072673",
                  "category": "actress",
                  "titleType": "tvSeries",
                  "originalTitle": "Secret Service Guy",
                  "isAdult": 0,
                  "startYear": "1996",
                  "endYear": "1996",
                  "runtimeMinutes": "nan",
                  "genres": "nan",
                  "primaryName": "Wendy Benson-Landes",
                  "birthYear": "1971",
                  "deathYear": "nan",
                  "knownForTitles": "tt0410975,tt1126591,tt0120211,tt0120524",
                  "_deepnote_index_column": 945067
                },
                {
                  "tconst": "tt0092351",
                  "ordering": 8,
                  "nconst": "nm0809321",
                  "category": "actor",
                  "titleType": "tvSeries",
                  "originalTitle": "Filthy Rich & Catflap",
                  "isAdult": 0,
                  "startYear": "1987",
                  "endYear": "1987",
                  "runtimeMinutes": "204",
                  "genres": "Comedy",
                  "primaryName": "Mel Smith",
                  "birthYear": "1952",
                  "deathYear": "2013",
                  "knownForTitles": "tt0080253,tt0093779,tt0103872,tt0089670",
                  "_deepnote_index_column": 784980
                },
                {
                  "tconst": "tt0072511",
                  "ordering": 1,
                  "nconst": "nm0538704",
                  "category": "actor",
                  "titleType": "tvSeries",
                  "originalTitle": "Himitsu sentai Gorenjâ",
                  "isAdult": 0,
                  "startYear": "1975",
                  "endYear": "1977",
                  "runtimeMinutes": "30",
                  "genres": "Action,Adventure,Sci-Fi",
                  "primaryName": "Naoya Makoto",
                  "birthYear": "1948",
                  "deathYear": "nan",
                  "knownForTitles": "tt1984162,tt4143220,tt0072511,tt1869453",
                  "_deepnote_index_column": 723696
                },
                {
                  "tconst": "tt0115202",
                  "ordering": 7,
                  "nconst": "nm0667937",
                  "category": "writer",
                  "titleType": "tvSeries",
                  "originalTitle": "High Incident",
                  "isAdult": 0,
                  "startYear": "1996",
                  "endYear": "1997",
                  "runtimeMinutes": "60",
                  "genres": "Crime,Drama",
                  "primaryName": "Michael Pavone",
                  "birthYear": "nan",
                  "deathYear": "nan",
                  "knownForTitles": "tt0112656,tt1792543,tt1606180,tt0455275",
                  "_deepnote_index_column": 953672
                },
                {
                  "tconst": "tt0078643",
                  "ordering": 4,
                  "nconst": "nm0000589",
                  "category": "actress",
                  "titleType": "tvMiniSeries",
                  "originalTitle": "Little Women",
                  "isAdult": 0,
                  "startYear": "1978",
                  "endYear": "1978",
                  "runtimeMinutes": "194",
                  "genres": "Drama,Family,Romance",
                  "primaryName": "Eve Plumb",
                  "birthYear": "1958",
                  "deathYear": "nan",
                  "knownForTitles": "tt2359024,tt9278110,tt1595859,tt5037914",
                  "_deepnote_index_column": 644884
                },
                {
                  "tconst": "tt0086773",
                  "ordering": 8,
                  "nconst": "nm0731716",
                  "category": "actor",
                  "titleType": "tvSeries",
                  "originalTitle": "One by One",
                  "isAdult": 0,
                  "startYear": "1984",
                  "endYear": "1987",
                  "runtimeMinutes": "50",
                  "genres": "Comedy,Drama",
                  "primaryName": "Andrew Robertson",
                  "birthYear": "1941",
                  "deathYear": "nan",
                  "knownForTitles": "tt0159900,tt0106084,tt0094439,tt0056751",
                  "_deepnote_index_column": 821646
                },
                {
                  "tconst": "tt0085104",
                  "ordering": 4,
                  "nconst": "nm0870328",
                  "category": "actress",
                  "titleType": "tvSeries",
                  "originalTitle": "Two Marriages",
                  "isAdult": 0,
                  "startYear": "1983",
                  "endYear": "1984",
                  "runtimeMinutes": "60",
                  "genres": "Drama",
                  "primaryName": "Tiffany Toyoshima",
                  "birthYear": "nan",
                  "deathYear": "nan",
                  "knownForTitles": "tt0085207,tt0085104",
                  "_deepnote_index_column": 821988
                },
                {
                  "tconst": "tt0057744",
                  "ordering": 5,
                  "nconst": "nm0001123",
                  "category": "self",
                  "titleType": "tvSeries",
                  "originalTitle": "The Entertainers",
                  "isAdult": 0,
                  "startYear": "1964",
                  "endYear": "1965",
                  "runtimeMinutes": "60",
                  "genres": "Comedy,Music",
                  "primaryName": "Dom DeLuise",
                  "birthYear": "1933",
                  "deathYear": "2009",
                  "knownForTitles": "tt0096787,tt0071230,tt0084649,tt0082136",
                  "_deepnote_index_column": 584115
                },
                {
                  "tconst": "tt0061260",
                  "ordering": 3,
                  "nconst": "nm0083424",
                  "category": "actor",
                  "titleType": "tvSeries",
                  "originalTitle": "Harry Worth",
                  "isAdult": 0,
                  "startYear": "1966",
                  "endYear": "1970",
                  "runtimeMinutes": "30",
                  "genres": "Comedy",
                  "primaryName": "Norman Bird",
                  "birthYear": "1924",
                  "deathYear": "2005",
                  "knownForTitles": "tt0061204,tt0077869,tt0054731,tt0054518",
                  "_deepnote_index_column": 554773
                },
                {
                  "tconst": "tt0070988",
                  "ordering": 5,
                  "nconst": "nm0190960",
                  "category": "writer",
                  "titleType": "tvSeries",
                  "originalTitle": "Firehouse",
                  "isAdult": 0,
                  "startYear": "1974",
                  "endYear": "1974",
                  "runtimeMinutes": "30",
                  "genres": "Adventure",
                  "primaryName": "Frank Cucci",
                  "birthYear": "1935",
                  "deathYear": "1989",
                  "knownForTitles": "tt0068592,tt0075475,tt0070988,tt0089365",
                  "_deepnote_index_column": 691631
                },
                {
                  "tconst": "tt0088610",
                  "ordering": 7,
                  "nconst": "nm0779656",
                  "category": "actor",
                  "titleType": "tvSeries",
                  "originalTitle": "Small Wonder",
                  "isAdult": 0,
                  "startYear": "1985",
                  "endYear": "1989",
                  "runtimeMinutes": "30",
                  "genres": "Comedy,Family,Sci-Fi",
                  "primaryName": "Paul C. Scott",
                  "birthYear": "nan",
                  "deathYear": "nan",
                  "knownForTitles": "tt0111892,tt0088610,tt0087291,tt0088470",
                  "_deepnote_index_column": 847786
                },
                {
                  "tconst": "tt0094569",
                  "ordering": 9,
                  "nconst": "nm0816868",
                  "category": "actor",
                  "titleType": "tvMiniSeries",
                  "originalTitle": "To som elsker hinanden",
                  "isAdult": 0,
                  "startYear": "1988",
                  "endYear": "1988",
                  "runtimeMinutes": "nan",
                  "genres": "nan",
                  "primaryName": "Søren Spanning",
                  "birthYear": "1951",
                  "deathYear": "2020",
                  "knownForTitles": "tt1276419,tt1514717,tt1526318,tt1802183",
                  "_deepnote_index_column": 796620
                },
                {
                  "tconst": "tt0085050",
                  "ordering": 8,
                  "nconst": "nm0113525",
                  "category": "actor",
                  "titleType": "tvSeries",
                  "originalTitle": "Mama's Family",
                  "isAdult": 0,
                  "startYear": "1983",
                  "endYear": "1990",
                  "runtimeMinutes": "30",
                  "genres": "Comedy",
                  "primaryName": "Eric Brown",
                  "birthYear": "1964",
                  "deathYear": "nan",
                  "knownForTitles": "tt0083470,tt0076999,tt0085050,tt0096426",
                  "_deepnote_index_column": 805742
                },
                {
                  "tconst": "tt0078679",
                  "ordering": 2,
                  "nconst": "nm0511964",
                  "category": "actress",
                  "titleType": "tvSeries",
                  "originalTitle": "The Ropers",
                  "isAdult": 0,
                  "startYear": "1979",
                  "endYear": "1980",
                  "runtimeMinutes": "30",
                  "genres": "Comedy",
                  "primaryName": "Audra Lindley",
                  "birthYear": "1918",
                  "deathYear": "1997",
                  "knownForTitles": "tt0075596,tt0120004,tt0114576,tt0089015",
                  "_deepnote_index_column": 478242
                },
                {
                  "tconst": "tt0044277",
                  "ordering": 4,
                  "nconst": "nm0319557",
                  "category": "actor",
                  "titleType": "tvSeries",
                  "originalTitle": "Mr. & Mrs. North",
                  "isAdult": 0,
                  "startYear": "1952",
                  "endYear": "1954",
                  "runtimeMinutes": "30",
                  "genres": "Comedy,Drama,Mystery",
                  "primaryName": "Lowell Gilmore",
                  "birthYear": "1906",
                  "deathYear": "1960",
                  "knownForTitles": "tt0037988,tt0045039,tt0040166,tt0043072",
                  "_deepnote_index_column": 398765
                },
                {
                  "tconst": "tt0115118",
                  "ordering": 9,
                  "nconst": "nm0251646",
                  "category": "actor",
                  "titleType": "tvSeries",
                  "originalTitle": "Bruno the Kid",
                  "isAdult": 0,
                  "startYear": "1996",
                  "endYear": "1997",
                  "runtimeMinutes": "nan",
                  "genres": "Action,Adventure,Animation",
                  "primaryName": "Paul Eiding",
                  "birthYear": "1957",
                  "deathYear": "nan",
                  "knownForTitles": "tt0092106,tt0180825,tt0249008,tt0760437",
                  "_deepnote_index_column": 805271
                },
                {
                  "tconst": "tt0084990",
                  "ordering": 3,
                  "nconst": "nm0326679",
                  "category": "actor",
                  "titleType": "tvSeries",
                  "originalTitle": "Brass Monkeys",
                  "isAdult": 0,
                  "startYear": "1984",
                  "endYear": "1984",
                  "runtimeMinutes": "23",
                  "genres": "Comedy",
                  "primaryName": "Kevin Golsby",
                  "birthYear": "1935",
                  "deathYear": "nan",
                  "knownForTitles": "tt1119176,tt0119870,tt0071282,tt0078637",
                  "_deepnote_index_column": 820876
                },
                {
                  "tconst": "tt0086705",
                  "ordering": 7,
                  "nconst": "nm0422713",
                  "category": "actress",
                  "titleType": "tvMiniSeries",
                  "originalTitle": "Ellis Island",
                  "isAdult": 0,
                  "startYear": "1984",
                  "endYear": "1984",
                  "runtimeMinutes": "420",
                  "genres": "Drama,History",
                  "primaryName": "Ann Jillian",
                  "birthYear": "1950",
                  "deathYear": "nan",
                  "knownForTitles": "tt0054649,tt0085970,tt0084289,tt0056048",
                  "_deepnote_index_column": 687228
                },
                {
                  "tconst": "tt0076995",
                  "ordering": 10,
                  "nconst": "nm0064168",
                  "category": "actress",
                  "titleType": "tvSeries",
                  "originalTitle": "City Lights",
                  "isAdult": 0,
                  "startYear": "1984",
                  "endYear": "1991",
                  "runtimeMinutes": "30",
                  "genres": "Comedy",
                  "primaryName": "Louise Beattie",
                  "birthYear": "1964",
                  "deathYear": "nan",
                  "knownForTitles": "tt0096700,tt0108772,tt0204773,tt0287276",
                  "_deepnote_index_column": 758725
                },
                {
                  "tconst": "tt0089500",
                  "ordering": 3,
                  "nconst": "nm0412382",
                  "category": "actress",
                  "titleType": "tvMiniSeries",
                  "originalTitle": "The Long Hot Summer",
                  "isAdult": 0,
                  "startYear": "1985",
                  "endYear": "1985",
                  "runtimeMinutes": "200",
                  "genres": "Drama,Romance",
                  "primaryName": "Judith Ivey",
                  "birthYear": "1951",
                  "deathYear": "nan",
                  "knownForTitles": "tt0118971,tt0119535,tt0134618,tt0418689",
                  "_deepnote_index_column": 840689
                },
                {
                  "tconst": "tt0068128",
                  "ordering": 10,
                  "nconst": "nm0686861",
                  "category": "actor",
                  "titleType": "tvSeries",
                  "originalTitle": "Sanford and Son",
                  "isAdult": 0,
                  "startYear": "1972",
                  "endYear": "1977",
                  "runtimeMinutes": "30",
                  "genres": "Comedy",
                  "primaryName": "Howard Platt",
                  "birthYear": "1938",
                  "deathYear": "nan",
                  "knownForTitles": "tt0117500,tt0113987,tt0070909,tt0068128",
                  "_deepnote_index_column": 687185
                },
                {
                  "tconst": "tt0081033",
                  "ordering": 5,
                  "nconst": "nm0378619",
                  "category": "actor",
                  "titleType": "tvMiniSeries",
                  "originalTitle": "The Last Outlaw",
                  "isAdult": 0,
                  "startYear": "1980",
                  "endYear": "1980",
                  "runtimeMinutes": "100",
                  "genres": "Biography,Crime,Drama",
                  "primaryName": "Ric Herbert",
                  "birthYear": "nan",
                  "deathYear": "nan",
                  "knownForTitles": "tt0360717,tt0120595,tt0110678,tt0082614",
                  "_deepnote_index_column": 791694
                },
                {
                  "tconst": "tt0083416",
                  "ordering": 7,
                  "nconst": "nm0398253",
                  "category": "actor",
                  "titleType": "tvSeries",
                  "originalTitle": "A Fine Romance",
                  "isAdult": 0,
                  "startYear": "1981",
                  "endYear": "1984",
                  "runtimeMinutes": "30",
                  "genres": "Comedy,Romance",
                  "primaryName": "Karl Howman",
                  "birthYear": "1952",
                  "deathYear": "nan",
                  "knownForTitles": "tt0071059,tt1300349,tt0103496,tt0088512",
                  "_deepnote_index_column": 723625
                }
              ],
              "rows_bottom": null
            },
            "text/plain": "           tconst  ordering     nconst         category     titleType  \\\n724035  tt0088508         7  nm0453447            actor      tvSeries   \n475347  tt0120978         7  nm0395443            actor      tvSeries   \n620055  tt0083464         9  nm0546004          actress      tvSeries   \n729364  tt0076045         9  nm0695909         producer      tvSeries   \n772807  tt0103466         2  nm0001787            actor      tvSeries   \n965347  tt0118453        10  nm0157915            actor  tvMiniSeries   \n735440  tt0120928         7  nm0788332            actor  tvMiniSeries   \n734331  tt0073961         5  nm0833688            actor      tvSeries   \n628976  tt0069430         7  nm0460319  cinematographer      tvSeries   \n933837  tt0103451         3  nm0123268            actor      tvSeries   \n945067  tt0118456         1  nm0072673          actress      tvSeries   \n784980  tt0092351         8  nm0809321            actor      tvSeries   \n723696  tt0072511         1  nm0538704            actor      tvSeries   \n953672  tt0115202         7  nm0667937           writer      tvSeries   \n644884  tt0078643         4  nm0000589          actress  tvMiniSeries   \n821646  tt0086773         8  nm0731716            actor      tvSeries   \n821988  tt0085104         4  nm0870328          actress      tvSeries   \n584115  tt0057744         5  nm0001123             self      tvSeries   \n554773  tt0061260         3  nm0083424            actor      tvSeries   \n691631  tt0070988         5  nm0190960           writer      tvSeries   \n847786  tt0088610         7  nm0779656            actor      tvSeries   \n796620  tt0094569         9  nm0816868            actor  tvMiniSeries   \n805742  tt0085050         8  nm0113525            actor      tvSeries   \n478242  tt0078679         2  nm0511964          actress      tvSeries   \n398765  tt0044277         4  nm0319557            actor      tvSeries   \n805271  tt0115118         9  nm0251646            actor      tvSeries   \n820876  tt0084990         3  nm0326679            actor      tvSeries   \n687228  tt0086705         7  nm0422713          actress  tvMiniSeries   \n758725  tt0076995        10  nm0064168          actress      tvSeries   \n840689  tt0089500         3  nm0412382          actress  tvMiniSeries   \n687185  tt0068128        10  nm0686861            actor      tvSeries   \n791694  tt0081033         5  nm0378619            actor  tvMiniSeries   \n723625  tt0083416         7  nm0398253            actor      tvSeries   \n\n                    originalTitle  isAdult startYear endYear runtimeMinutes  \\\n724035                Double Dare        0      1985    1985             60   \n475347  The Kit Curran Radio Show        0      1984    1984             24   \n620055                The Phoenix        0      1981    1982             60   \n729364           The Fosdyke Saga        0      1977    1983             15   \n772807     The Larry Sanders Show        0      1992    1998             30   \n965347               Rough Riders        0      1997    1997            240   \n735440         The Big Battalions        0      1992    1992            360   \n734331        Baa Baa Black Sheep        0      1976    1978             60   \n628976                     Tårtan        0      1973    1973            170   \n933837       The Jon Stewart Show        0      1993    1995             30   \n945067         Secret Service Guy        0      1996    1996            NaN   \n784980      Filthy Rich & Catflap        0      1987    1987            204   \n723696     Himitsu sentai Gorenjâ        0      1975    1977             30   \n953672              High Incident        0      1996    1997             60   \n644884               Little Women        0      1978    1978            194   \n821646                 One by One        0      1984    1987             50   \n821988              Two Marriages        0      1983    1984             60   \n584115           The Entertainers        0      1964    1965             60   \n554773                Harry Worth        0      1966    1970             30   \n691631                  Firehouse        0      1974    1974             30   \n847786               Small Wonder        0      1985    1989             30   \n796620     To som elsker hinanden        0      1988    1988            NaN   \n805742              Mama's Family        0      1983    1990             30   \n478242                 The Ropers        0      1979    1980             30   \n398765           Mr. & Mrs. North        0      1952    1954             30   \n805271              Bruno the Kid        0      1996    1997            NaN   \n820876              Brass Monkeys        0      1984    1984             23   \n687228               Ellis Island        0      1984    1984            420   \n758725                City Lights        0      1984    1991             30   \n840689        The Long Hot Summer        0      1985    1985            200   \n687185            Sanford and Son        0      1972    1977             30   \n791694            The Last Outlaw        0      1980    1980            100   \n723625             A Fine Romance        0      1981    1984             30   \n\n                            genres          primaryName birthYear deathYear  \\\n724035                       Drama          Evan C. Kim      1953       NaN   \n475347                      Comedy         John Horsley      1920      2014   \n620055                      Sci-Fi    Andrea Marcovicci      1948       NaN   \n729364                      Comedy            Tara Prem      1946       NaN   \n772807                      Comedy       Jeffrey Tambor      1944       NaN   \n965347        Action,Drama,History        Nick Chinlund      1961       NaN   \n735440                       Drama      Michael Shannon      1943       NaN   \n734331      Action,Adventure,Drama        W.K. Stratton      1950       NaN   \n628976               Comedy,Family       Berndt Klyvare      1929      2008   \n933837            Comedy,Talk-Show         Carl Burrows       NaN       NaN   \n945067                         NaN  Wendy Benson-Landes      1971       NaN   \n784980                      Comedy            Mel Smith      1952      2013   \n723696     Action,Adventure,Sci-Fi         Naoya Makoto      1948       NaN   \n953672                 Crime,Drama       Michael Pavone       NaN       NaN   \n644884        Drama,Family,Romance            Eve Plumb      1958       NaN   \n821646                Comedy,Drama     Andrew Robertson      1941       NaN   \n821988                       Drama    Tiffany Toyoshima       NaN       NaN   \n584115                Comedy,Music          Dom DeLuise      1933      2009   \n554773                      Comedy          Norman Bird      1924      2005   \n691631                   Adventure          Frank Cucci      1935      1989   \n847786        Comedy,Family,Sci-Fi        Paul C. Scott       NaN       NaN   \n796620                         NaN       Søren Spanning      1951      2020   \n805742                      Comedy           Eric Brown      1964       NaN   \n478242                      Comedy        Audra Lindley      1918      1997   \n398765        Comedy,Drama,Mystery       Lowell Gilmore      1906      1960   \n805271  Action,Adventure,Animation          Paul Eiding      1957       NaN   \n820876                      Comedy         Kevin Golsby      1935       NaN   \n687228               Drama,History          Ann Jillian      1950       NaN   \n758725                      Comedy       Louise Beattie      1964       NaN   \n840689               Drama,Romance          Judith Ivey      1951       NaN   \n687185                      Comedy         Howard Platt      1938       NaN   \n791694       Biography,Crime,Drama          Ric Herbert       NaN       NaN   \n723625              Comedy,Romance          Karl Howman      1952       NaN   \n\n                                 knownForTitles  \n724035  tt0082146,tt0085106,tt0094963,tt0076257  \n475347  tt0044637,tt0073990,tt0124218,tt0329369  \n620055  tt7043012,tt0086346,tt0078740,tt0074554  \n729364  tt0259806,tt0088102,tt0165592,tt0175708  \n772807  tt3502262,tt0170016,tt0367279,tt4686844  \n965347  tt0118880,tt0296572,tt0139654,tt0314353  \n735440  tt1077368,tt1486192,tt0081573,tt0091419  \n734331  tt0455407,tt0452625,tt0465602,tt0985694  \n628976  tt0069430,tt5330430,tt9496134,tt0062191  \n933837  tt2081178,tt0385841,tt0126916,tt0852975  \n945067  tt0410975,tt1126591,tt0120211,tt0120524  \n784980  tt0080253,tt0093779,tt0103872,tt0089670  \n723696  tt1984162,tt4143220,tt0072511,tt1869453  \n953672  tt0112656,tt1792543,tt1606180,tt0455275  \n644884  tt2359024,tt9278110,tt1595859,tt5037914  \n821646  tt0159900,tt0106084,tt0094439,tt0056751  \n821988                      tt0085207,tt0085104  \n584115  tt0096787,tt0071230,tt0084649,tt0082136  \n554773  tt0061204,tt0077869,tt0054731,tt0054518  \n691631  tt0068592,tt0075475,tt0070988,tt0089365  \n847786  tt0111892,tt0088610,tt0087291,tt0088470  \n796620  tt1276419,tt1514717,tt1526318,tt1802183  \n805742  tt0083470,tt0076999,tt0085050,tt0096426  \n478242  tt0075596,tt0120004,tt0114576,tt0089015  \n398765  tt0037988,tt0045039,tt0040166,tt0043072  \n805271  tt0092106,tt0180825,tt0249008,tt0760437  \n820876  tt1119176,tt0119870,tt0071282,tt0078637  \n687228  tt0054649,tt0085970,tt0084289,tt0056048  \n758725  tt0096700,tt0108772,tt0204773,tt0287276  \n840689  tt0118971,tt0119535,tt0134618,tt0418689  \n687185  tt0117500,tt0113987,tt0070909,tt0068128  \n791694  tt0360717,tt0120595,tt0110678,tt0082614  \n723625  tt0071059,tt1300349,tt0103496,tt0088512  ",
            "text/html": "<div>\n<style scoped>\n    .dataframe tbody tr th:only-of-type {\n        vertical-align: middle;\n    }\n\n    .dataframe tbody tr th {\n        vertical-align: top;\n    }\n\n    .dataframe thead th {\n        text-align: right;\n    }\n</style>\n<table border=\"1\" class=\"dataframe\">\n  <thead>\n    <tr style=\"text-align: right;\">\n      <th></th>\n      <th>tconst</th>\n      <th>ordering</th>\n      <th>nconst</th>\n      <th>category</th>\n      <th>titleType</th>\n      <th>originalTitle</th>\n      <th>isAdult</th>\n      <th>startYear</th>\n      <th>endYear</th>\n      <th>runtimeMinutes</th>\n      <th>genres</th>\n      <th>primaryName</th>\n      <th>birthYear</th>\n      <th>deathYear</th>\n      <th>knownForTitles</th>\n    </tr>\n  </thead>\n  <tbody>\n    <tr>\n      <th>724035</th>\n      <td>tt0088508</td>\n      <td>7</td>\n      <td>nm0453447</td>\n      <td>actor</td>\n      <td>tvSeries</td>\n      <td>Double Dare</td>\n      <td>0</td>\n      <td>1985</td>\n      <td>1985</td>\n      <td>60</td>\n      <td>Drama</td>\n      <td>Evan C. Kim</td>\n      <td>1953</td>\n      <td>NaN</td>\n      <td>tt0082146,tt0085106,tt0094963,tt0076257</td>\n    </tr>\n    <tr>\n      <th>475347</th>\n      <td>tt0120978</td>\n      <td>7</td>\n      <td>nm0395443</td>\n      <td>actor</td>\n      <td>tvSeries</td>\n      <td>The Kit Curran Radio Show</td>\n      <td>0</td>\n      <td>1984</td>\n      <td>1984</td>\n      <td>24</td>\n      <td>Comedy</td>\n      <td>John Horsley</td>\n      <td>1920</td>\n      <td>2014</td>\n      <td>tt0044637,tt0073990,tt0124218,tt0329369</td>\n    </tr>\n    <tr>\n      <th>620055</th>\n      <td>tt0083464</td>\n      <td>9</td>\n      <td>nm0546004</td>\n      <td>actress</td>\n      <td>tvSeries</td>\n      <td>The Phoenix</td>\n      <td>0</td>\n      <td>1981</td>\n      <td>1982</td>\n      <td>60</td>\n      <td>Sci-Fi</td>\n      <td>Andrea Marcovicci</td>\n      <td>1948</td>\n      <td>NaN</td>\n      <td>tt7043012,tt0086346,tt0078740,tt0074554</td>\n    </tr>\n    <tr>\n      <th>729364</th>\n      <td>tt0076045</td>\n      <td>9</td>\n      <td>nm0695909</td>\n      <td>producer</td>\n      <td>tvSeries</td>\n      <td>The Fosdyke Saga</td>\n      <td>0</td>\n      <td>1977</td>\n      <td>1983</td>\n      <td>15</td>\n      <td>Comedy</td>\n      <td>Tara Prem</td>\n      <td>1946</td>\n      <td>NaN</td>\n      <td>tt0259806,tt0088102,tt0165592,tt0175708</td>\n    </tr>\n    <tr>\n      <th>772807</th>\n      <td>tt0103466</td>\n      <td>2</td>\n      <td>nm0001787</td>\n      <td>actor</td>\n      <td>tvSeries</td>\n      <td>The Larry Sanders Show</td>\n      <td>0</td>\n      <td>1992</td>\n      <td>1998</td>\n      <td>30</td>\n      <td>Comedy</td>\n      <td>Jeffrey Tambor</td>\n      <td>1944</td>\n      <td>NaN</td>\n      <td>tt3502262,tt0170016,tt0367279,tt4686844</td>\n    </tr>\n    <tr>\n      <th>965347</th>\n      <td>tt0118453</td>\n      <td>10</td>\n      <td>nm0157915</td>\n      <td>actor</td>\n      <td>tvMiniSeries</td>\n      <td>Rough Riders</td>\n      <td>0</td>\n      <td>1997</td>\n      <td>1997</td>\n      <td>240</td>\n      <td>Action,Drama,History</td>\n      <td>Nick Chinlund</td>\n      <td>1961</td>\n      <td>NaN</td>\n      <td>tt0118880,tt0296572,tt0139654,tt0314353</td>\n    </tr>\n    <tr>\n      <th>735440</th>\n      <td>tt0120928</td>\n      <td>7</td>\n      <td>nm0788332</td>\n      <td>actor</td>\n      <td>tvMiniSeries</td>\n      <td>The Big Battalions</td>\n      <td>0</td>\n      <td>1992</td>\n      <td>1992</td>\n      <td>360</td>\n      <td>Drama</td>\n      <td>Michael Shannon</td>\n      <td>1943</td>\n      <td>NaN</td>\n      <td>tt1077368,tt1486192,tt0081573,tt0091419</td>\n    </tr>\n    <tr>\n      <th>734331</th>\n      <td>tt0073961</td>\n      <td>5</td>\n      <td>nm0833688</td>\n      <td>actor</td>\n      <td>tvSeries</td>\n      <td>Baa Baa Black Sheep</td>\n      <td>0</td>\n      <td>1976</td>\n      <td>1978</td>\n      <td>60</td>\n      <td>Action,Adventure,Drama</td>\n      <td>W.K. Stratton</td>\n      <td>1950</td>\n      <td>NaN</td>\n      <td>tt0455407,tt0452625,tt0465602,tt0985694</td>\n    </tr>\n    <tr>\n      <th>628976</th>\n      <td>tt0069430</td>\n      <td>7</td>\n      <td>nm0460319</td>\n      <td>cinematographer</td>\n      <td>tvSeries</td>\n      <td>Tårtan</td>\n      <td>0</td>\n      <td>1973</td>\n      <td>1973</td>\n      <td>170</td>\n      <td>Comedy,Family</td>\n      <td>Berndt Klyvare</td>\n      <td>1929</td>\n      <td>2008</td>\n      <td>tt0069430,tt5330430,tt9496134,tt0062191</td>\n    </tr>\n    <tr>\n      <th>933837</th>\n      <td>tt0103451</td>\n      <td>3</td>\n      <td>nm0123268</td>\n      <td>actor</td>\n      <td>tvSeries</td>\n      <td>The Jon Stewart Show</td>\n      <td>0</td>\n      <td>1993</td>\n      <td>1995</td>\n      <td>30</td>\n      <td>Comedy,Talk-Show</td>\n      <td>Carl Burrows</td>\n      <td>NaN</td>\n      <td>NaN</td>\n      <td>tt2081178,tt0385841,tt0126916,tt0852975</td>\n    </tr>\n    <tr>\n      <th>945067</th>\n      <td>tt0118456</td>\n      <td>1</td>\n      <td>nm0072673</td>\n      <td>actress</td>\n      <td>tvSeries</td>\n      <td>Secret Service Guy</td>\n      <td>0</td>\n      <td>1996</td>\n      <td>1996</td>\n      <td>NaN</td>\n      <td>NaN</td>\n      <td>Wendy Benson-Landes</td>\n      <td>1971</td>\n      <td>NaN</td>\n      <td>tt0410975,tt1126591,tt0120211,tt0120524</td>\n    </tr>\n    <tr>\n      <th>784980</th>\n      <td>tt0092351</td>\n      <td>8</td>\n      <td>nm0809321</td>\n      <td>actor</td>\n      <td>tvSeries</td>\n      <td>Filthy Rich &amp; Catflap</td>\n      <td>0</td>\n      <td>1987</td>\n      <td>1987</td>\n      <td>204</td>\n      <td>Comedy</td>\n      <td>Mel Smith</td>\n      <td>1952</td>\n      <td>2013</td>\n      <td>tt0080253,tt0093779,tt0103872,tt0089670</td>\n    </tr>\n    <tr>\n      <th>723696</th>\n      <td>tt0072511</td>\n      <td>1</td>\n      <td>nm0538704</td>\n      <td>actor</td>\n      <td>tvSeries</td>\n      <td>Himitsu sentai Gorenjâ</td>\n      <td>0</td>\n      <td>1975</td>\n      <td>1977</td>\n      <td>30</td>\n      <td>Action,Adventure,Sci-Fi</td>\n      <td>Naoya Makoto</td>\n      <td>1948</td>\n      <td>NaN</td>\n      <td>tt1984162,tt4143220,tt0072511,tt1869453</td>\n    </tr>\n    <tr>\n      <th>953672</th>\n      <td>tt0115202</td>\n      <td>7</td>\n      <td>nm0667937</td>\n      <td>writer</td>\n      <td>tvSeries</td>\n      <td>High Incident</td>\n      <td>0</td>\n      <td>1996</td>\n      <td>1997</td>\n      <td>60</td>\n      <td>Crime,Drama</td>\n      <td>Michael Pavone</td>\n      <td>NaN</td>\n      <td>NaN</td>\n      <td>tt0112656,tt1792543,tt1606180,tt0455275</td>\n    </tr>\n    <tr>\n      <th>644884</th>\n      <td>tt0078643</td>\n      <td>4</td>\n      <td>nm0000589</td>\n      <td>actress</td>\n      <td>tvMiniSeries</td>\n      <td>Little Women</td>\n      <td>0</td>\n      <td>1978</td>\n      <td>1978</td>\n      <td>194</td>\n      <td>Drama,Family,Romance</td>\n      <td>Eve Plumb</td>\n      <td>1958</td>\n      <td>NaN</td>\n      <td>tt2359024,tt9278110,tt1595859,tt5037914</td>\n    </tr>\n    <tr>\n      <th>821646</th>\n      <td>tt0086773</td>\n      <td>8</td>\n      <td>nm0731716</td>\n      <td>actor</td>\n      <td>tvSeries</td>\n      <td>One by One</td>\n      <td>0</td>\n      <td>1984</td>\n      <td>1987</td>\n      <td>50</td>\n      <td>Comedy,Drama</td>\n      <td>Andrew Robertson</td>\n      <td>1941</td>\n      <td>NaN</td>\n      <td>tt0159900,tt0106084,tt0094439,tt0056751</td>\n    </tr>\n    <tr>\n      <th>821988</th>\n      <td>tt0085104</td>\n      <td>4</td>\n      <td>nm0870328</td>\n      <td>actress</td>\n      <td>tvSeries</td>\n      <td>Two Marriages</td>\n      <td>0</td>\n      <td>1983</td>\n      <td>1984</td>\n      <td>60</td>\n      <td>Drama</td>\n      <td>Tiffany Toyoshima</td>\n      <td>NaN</td>\n      <td>NaN</td>\n      <td>tt0085207,tt0085104</td>\n    </tr>\n    <tr>\n      <th>584115</th>\n      <td>tt0057744</td>\n      <td>5</td>\n      <td>nm0001123</td>\n      <td>self</td>\n      <td>tvSeries</td>\n      <td>The Entertainers</td>\n      <td>0</td>\n      <td>1964</td>\n      <td>1965</td>\n      <td>60</td>\n      <td>Comedy,Music</td>\n      <td>Dom DeLuise</td>\n      <td>1933</td>\n      <td>2009</td>\n      <td>tt0096787,tt0071230,tt0084649,tt0082136</td>\n    </tr>\n    <tr>\n      <th>554773</th>\n      <td>tt0061260</td>\n      <td>3</td>\n      <td>nm0083424</td>\n      <td>actor</td>\n      <td>tvSeries</td>\n      <td>Harry Worth</td>\n      <td>0</td>\n      <td>1966</td>\n      <td>1970</td>\n      <td>30</td>\n      <td>Comedy</td>\n      <td>Norman Bird</td>\n      <td>1924</td>\n      <td>2005</td>\n      <td>tt0061204,tt0077869,tt0054731,tt0054518</td>\n    </tr>\n    <tr>\n      <th>691631</th>\n      <td>tt0070988</td>\n      <td>5</td>\n      <td>nm0190960</td>\n      <td>writer</td>\n      <td>tvSeries</td>\n      <td>Firehouse</td>\n      <td>0</td>\n      <td>1974</td>\n      <td>1974</td>\n      <td>30</td>\n      <td>Adventure</td>\n      <td>Frank Cucci</td>\n      <td>1935</td>\n      <td>1989</td>\n      <td>tt0068592,tt0075475,tt0070988,tt0089365</td>\n    </tr>\n    <tr>\n      <th>847786</th>\n      <td>tt0088610</td>\n      <td>7</td>\n      <td>nm0779656</td>\n      <td>actor</td>\n      <td>tvSeries</td>\n      <td>Small Wonder</td>\n      <td>0</td>\n      <td>1985</td>\n      <td>1989</td>\n      <td>30</td>\n      <td>Comedy,Family,Sci-Fi</td>\n      <td>Paul C. Scott</td>\n      <td>NaN</td>\n      <td>NaN</td>\n      <td>tt0111892,tt0088610,tt0087291,tt0088470</td>\n    </tr>\n    <tr>\n      <th>796620</th>\n      <td>tt0094569</td>\n      <td>9</td>\n      <td>nm0816868</td>\n      <td>actor</td>\n      <td>tvMiniSeries</td>\n      <td>To som elsker hinanden</td>\n      <td>0</td>\n      <td>1988</td>\n      <td>1988</td>\n      <td>NaN</td>\n      <td>NaN</td>\n      <td>Søren Spanning</td>\n      <td>1951</td>\n      <td>2020</td>\n      <td>tt1276419,tt1514717,tt1526318,tt1802183</td>\n    </tr>\n    <tr>\n      <th>805742</th>\n      <td>tt0085050</td>\n      <td>8</td>\n      <td>nm0113525</td>\n      <td>actor</td>\n      <td>tvSeries</td>\n      <td>Mama's Family</td>\n      <td>0</td>\n      <td>1983</td>\n      <td>1990</td>\n      <td>30</td>\n      <td>Comedy</td>\n      <td>Eric Brown</td>\n      <td>1964</td>\n      <td>NaN</td>\n      <td>tt0083470,tt0076999,tt0085050,tt0096426</td>\n    </tr>\n    <tr>\n      <th>478242</th>\n      <td>tt0078679</td>\n      <td>2</td>\n      <td>nm0511964</td>\n      <td>actress</td>\n      <td>tvSeries</td>\n      <td>The Ropers</td>\n      <td>0</td>\n      <td>1979</td>\n      <td>1980</td>\n      <td>30</td>\n      <td>Comedy</td>\n      <td>Audra Lindley</td>\n      <td>1918</td>\n      <td>1997</td>\n      <td>tt0075596,tt0120004,tt0114576,tt0089015</td>\n    </tr>\n    <tr>\n      <th>398765</th>\n      <td>tt0044277</td>\n      <td>4</td>\n      <td>nm0319557</td>\n      <td>actor</td>\n      <td>tvSeries</td>\n      <td>Mr. &amp; Mrs. North</td>\n      <td>0</td>\n      <td>1952</td>\n      <td>1954</td>\n      <td>30</td>\n      <td>Comedy,Drama,Mystery</td>\n      <td>Lowell Gilmore</td>\n      <td>1906</td>\n      <td>1960</td>\n      <td>tt0037988,tt0045039,tt0040166,tt0043072</td>\n    </tr>\n    <tr>\n      <th>805271</th>\n      <td>tt0115118</td>\n      <td>9</td>\n      <td>nm0251646</td>\n      <td>actor</td>\n      <td>tvSeries</td>\n      <td>Bruno the Kid</td>\n      <td>0</td>\n      <td>1996</td>\n      <td>1997</td>\n      <td>NaN</td>\n      <td>Action,Adventure,Animation</td>\n      <td>Paul Eiding</td>\n      <td>1957</td>\n      <td>NaN</td>\n      <td>tt0092106,tt0180825,tt0249008,tt0760437</td>\n    </tr>\n    <tr>\n      <th>820876</th>\n      <td>tt0084990</td>\n      <td>3</td>\n      <td>nm0326679</td>\n      <td>actor</td>\n      <td>tvSeries</td>\n      <td>Brass Monkeys</td>\n      <td>0</td>\n      <td>1984</td>\n      <td>1984</td>\n      <td>23</td>\n      <td>Comedy</td>\n      <td>Kevin Golsby</td>\n      <td>1935</td>\n      <td>NaN</td>\n      <td>tt1119176,tt0119870,tt0071282,tt0078637</td>\n    </tr>\n    <tr>\n      <th>687228</th>\n      <td>tt0086705</td>\n      <td>7</td>\n      <td>nm0422713</td>\n      <td>actress</td>\n      <td>tvMiniSeries</td>\n      <td>Ellis Island</td>\n      <td>0</td>\n      <td>1984</td>\n      <td>1984</td>\n      <td>420</td>\n      <td>Drama,History</td>\n      <td>Ann Jillian</td>\n      <td>1950</td>\n      <td>NaN</td>\n      <td>tt0054649,tt0085970,tt0084289,tt0056048</td>\n    </tr>\n    <tr>\n      <th>758725</th>\n      <td>tt0076995</td>\n      <td>10</td>\n      <td>nm0064168</td>\n      <td>actress</td>\n      <td>tvSeries</td>\n      <td>City Lights</td>\n      <td>0</td>\n      <td>1984</td>\n      <td>1991</td>\n      <td>30</td>\n      <td>Comedy</td>\n      <td>Louise Beattie</td>\n      <td>1964</td>\n      <td>NaN</td>\n      <td>tt0096700,tt0108772,tt0204773,tt0287276</td>\n    </tr>\n    <tr>\n      <th>840689</th>\n      <td>tt0089500</td>\n      <td>3</td>\n      <td>nm0412382</td>\n      <td>actress</td>\n      <td>tvMiniSeries</td>\n      <td>The Long Hot Summer</td>\n      <td>0</td>\n      <td>1985</td>\n      <td>1985</td>\n      <td>200</td>\n      <td>Drama,Romance</td>\n      <td>Judith Ivey</td>\n      <td>1951</td>\n      <td>NaN</td>\n      <td>tt0118971,tt0119535,tt0134618,tt0418689</td>\n    </tr>\n    <tr>\n      <th>687185</th>\n      <td>tt0068128</td>\n      <td>10</td>\n      <td>nm0686861</td>\n      <td>actor</td>\n      <td>tvSeries</td>\n      <td>Sanford and Son</td>\n      <td>0</td>\n      <td>1972</td>\n      <td>1977</td>\n      <td>30</td>\n      <td>Comedy</td>\n      <td>Howard Platt</td>\n      <td>1938</td>\n      <td>NaN</td>\n      <td>tt0117500,tt0113987,tt0070909,tt0068128</td>\n    </tr>\n    <tr>\n      <th>791694</th>\n      <td>tt0081033</td>\n      <td>5</td>\n      <td>nm0378619</td>\n      <td>actor</td>\n      <td>tvMiniSeries</td>\n      <td>The Last Outlaw</td>\n      <td>0</td>\n      <td>1980</td>\n      <td>1980</td>\n      <td>100</td>\n      <td>Biography,Crime,Drama</td>\n      <td>Ric Herbert</td>\n      <td>NaN</td>\n      <td>NaN</td>\n      <td>tt0360717,tt0120595,tt0110678,tt0082614</td>\n    </tr>\n    <tr>\n      <th>723625</th>\n      <td>tt0083416</td>\n      <td>7</td>\n      <td>nm0398253</td>\n      <td>actor</td>\n      <td>tvSeries</td>\n      <td>A Fine Romance</td>\n      <td>0</td>\n      <td>1981</td>\n      <td>1984</td>\n      <td>30</td>\n      <td>Comedy,Romance</td>\n      <td>Karl Howman</td>\n      <td>1952</td>\n      <td>NaN</td>\n      <td>tt0071059,tt1300349,tt0103496,tt0088512</td>\n    </tr>\n  </tbody>\n</table>\n</div>"
          },
          "metadata": {}
        }
      ],
      "execution_count": 20
    },
    {
      "cell_type": "markdown",
      "source": "We will keep this register for future use.\n\nIn the other hand, we have around ~10% of runtimeMinutes as null and some register are not classifying with generes. We will drop these registers to let only usefull information in these columns.",
      "metadata": {
        "tags": [],
        "cell_id": "00034-ad8b1b51-13b7-4a84-911b-b7140476ff9f",
        "deepnote_cell_type": "markdown"
      }
    },
    {
      "cell_type": "code",
      "source": "df = df[df['runtimeMinutes'].notnull()]\ndf = df[df['genres'].notnull()]",
      "metadata": {
        "tags": [],
        "cell_id": "00035-edabdf17-2854-4018-adee-7d38ecedec08",
        "deepnote_to_be_reexecuted": false,
        "source_hash": "7c0f125",
        "execution_millis": 1,
        "execution_start": 1619155376701,
        "deepnote_cell_type": "code"
      },
      "outputs": [],
      "execution_count": 21
    },
    {
      "cell_type": "code",
      "source": "df.isnull().sum()",
      "metadata": {
        "tags": [],
        "cell_id": "00036-06d4f897-3810-4078-bead-21d67de011d2",
        "deepnote_to_be_reexecuted": false,
        "source_hash": "f3dd26da",
        "execution_millis": 32,
        "execution_start": 1619155376704,
        "deepnote_cell_type": "code"
      },
      "outputs": [
        {
          "output_type": "execute_result",
          "execution_count": 22,
          "data": {
            "text/plain": "tconst              0\nordering            0\nnconst              0\ncategory            0\ntitleType           0\noriginalTitle       0\nisAdult             0\nstartYear           0\nendYear           836\nruntimeMinutes      0\ngenres              0\nprimaryName         0\nbirthYear         145\ndeathYear         360\nknownForTitles      0\ndtype: int64"
          },
          "metadata": {}
        }
      ],
      "execution_count": 22
    },
    {
      "cell_type": "markdown",
      "source": "Trying to detect types:\nSome issues with dates and numbers.",
      "metadata": {
        "tags": [],
        "cell_id": "00016-391eb667-337b-4cce-a945-99b6211b0caf",
        "deepnote_cell_type": "markdown"
      }
    },
    {
      "cell_type": "code",
      "source": "df = df.convert_dtypes()",
      "metadata": {
        "tags": [],
        "cell_id": "00010-097bcadc-f3a3-44bd-9df7-94c733efaf2e",
        "deepnote_to_be_reexecuted": false,
        "source_hash": "6712a230",
        "execution_millis": 11,
        "execution_start": 1619155376711,
        "deepnote_cell_type": "code"
      },
      "outputs": [],
      "execution_count": 23
    },
    {
      "cell_type": "code",
      "source": "df.dtypes",
      "metadata": {
        "tags": [],
        "cell_id": "00021-57ab18af-9eef-4bf8-a9fb-659d793c555f",
        "deepnote_to_be_reexecuted": false,
        "source_hash": "52430027",
        "execution_millis": 8,
        "execution_start": 1619155376728,
        "deepnote_cell_type": "code"
      },
      "outputs": [
        {
          "output_type": "execute_result",
          "execution_count": 24,
          "data": {
            "text/plain": "tconst            string\nordering           Int64\nnconst            string\ncategory          string\ntitleType         string\noriginalTitle     string\nisAdult            Int64\nstartYear         object\nendYear           string\nruntimeMinutes    string\ngenres            string\nprimaryName       string\nbirthYear         string\ndeathYear         string\nknownForTitles    string\ndtype: object"
          },
          "metadata": {}
        }
      ],
      "execution_count": 24
    },
    {
      "cell_type": "code",
      "source": "df.head()",
      "metadata": {
        "tags": [],
        "cell_id": "00042-e55c0297-f32a-4b68-9c0d-d4c5d50545cd",
        "deepnote_to_be_reexecuted": false,
        "source_hash": "c085b6ba",
        "execution_start": 1619155450200,
        "execution_millis": 27,
        "deepnote_cell_type": "code"
      },
      "outputs": [
        {
          "output_type": "execute_result",
          "execution_count": 28,
          "data": {
            "application/vnd.deepnote.dataframe.v2+json": {
              "error": "Traceback (most recent call last):\n  File \"/shared-libs/code/variable_explorer.py\", line 143, in dataframe_formatter\n    return { MIME_TYPE: describe_pd_dataframe(df) }\n  File \"/shared-libs/code/variable_explorer_helpers.py\", line 154, in describe_pd_dataframe\n    if (is_type_numeric(column.dtype)):\n  File \"/shared-libs/code/variable_explorer_helpers.py\", line 13, in is_type_numeric\n    return np.issubdtype(dtype, np.number)\n  File \"/shared-libs/python3.7/py/lib/python3.7/site-packages/numpy/core/numerictypes.py\", line 388, in issubdtype\n    arg1 = dtype(arg1).type\nTypeError: Cannot interpret 'StringDtype' as a data type\n"
            },
            "text/plain": "           tconst  ordering     nconst         category titleType  \\\n842775  tt0105845         4  nm0461918            actor     movie   \n969004  tt0112598         1  nm0954128         director     short   \n701758  tt0074454         3  nm0078525            actor     movie   \n419583  tt0055994         4  nm0214748  archive_footage     movie   \n462996  tt0059884         3  nm0863146            actor     movie   \n\n                                    originalTitle  isAdult startYear endYear  \\\n842775                               Wu hu si hai        0      1992    <NA>   \n969004  Burgenland 1945 - Historische Spurensuche        0      1995    <NA>   \n701758                                Eat My Dust        0      1976    <NA>   \n419583                            Forever My Love        0      1962    <NA>   \n462996           Voyna i mir I: Andrey Bolkonskiy        0      1965    <NA>   \n\n       runtimeMinutes                 genres            primaryName birthYear  \\\n842775             90  Action,Crime,Thriller  Blackie Shou-Liang Ko      1953   \n969004             32                  Short    Herbert Zechmeister      <NA>   \n701758             89  Action,Comedy,Romance             Brad David      1947   \n419583            148          Drama,Romance        Vilma Degischer      1911   \n462996            147              Drama,War    Vyacheslav Tikhonov      1928   \n\n       deathYear                           knownForTitles  \n842775      2003  tt0105845,tt0368813,tt0091431,tt0067009  \n969004      <NA>  tt0112598,tt0114686,tt0144061,tt0390500  \n701758      <NA>  tt0080319,tt0086567,tt0074454,tt0069840  \n419583      1992  tt0056907,tt0050974,tt0049762,tt0048624  \n462996      2009  tt0061162,tt0063794,tt0062456,tt0062907  ",
            "text/html": "<div>\n<style scoped>\n    .dataframe tbody tr th:only-of-type {\n        vertical-align: middle;\n    }\n\n    .dataframe tbody tr th {\n        vertical-align: top;\n    }\n\n    .dataframe thead th {\n        text-align: right;\n    }\n</style>\n<table border=\"1\" class=\"dataframe\">\n  <thead>\n    <tr style=\"text-align: right;\">\n      <th></th>\n      <th>tconst</th>\n      <th>ordering</th>\n      <th>nconst</th>\n      <th>category</th>\n      <th>titleType</th>\n      <th>originalTitle</th>\n      <th>isAdult</th>\n      <th>startYear</th>\n      <th>endYear</th>\n      <th>runtimeMinutes</th>\n      <th>genres</th>\n      <th>primaryName</th>\n      <th>birthYear</th>\n      <th>deathYear</th>\n      <th>knownForTitles</th>\n    </tr>\n  </thead>\n  <tbody>\n    <tr>\n      <th>842775</th>\n      <td>tt0105845</td>\n      <td>4</td>\n      <td>nm0461918</td>\n      <td>actor</td>\n      <td>movie</td>\n      <td>Wu hu si hai</td>\n      <td>0</td>\n      <td>1992</td>\n      <td>&lt;NA&gt;</td>\n      <td>90</td>\n      <td>Action,Crime,Thriller</td>\n      <td>Blackie Shou-Liang Ko</td>\n      <td>1953</td>\n      <td>2003</td>\n      <td>tt0105845,tt0368813,tt0091431,tt0067009</td>\n    </tr>\n    <tr>\n      <th>969004</th>\n      <td>tt0112598</td>\n      <td>1</td>\n      <td>nm0954128</td>\n      <td>director</td>\n      <td>short</td>\n      <td>Burgenland 1945 - Historische Spurensuche</td>\n      <td>0</td>\n      <td>1995</td>\n      <td>&lt;NA&gt;</td>\n      <td>32</td>\n      <td>Short</td>\n      <td>Herbert Zechmeister</td>\n      <td>&lt;NA&gt;</td>\n      <td>&lt;NA&gt;</td>\n      <td>tt0112598,tt0114686,tt0144061,tt0390500</td>\n    </tr>\n    <tr>\n      <th>701758</th>\n      <td>tt0074454</td>\n      <td>3</td>\n      <td>nm0078525</td>\n      <td>actor</td>\n      <td>movie</td>\n      <td>Eat My Dust</td>\n      <td>0</td>\n      <td>1976</td>\n      <td>&lt;NA&gt;</td>\n      <td>89</td>\n      <td>Action,Comedy,Romance</td>\n      <td>Brad David</td>\n      <td>1947</td>\n      <td>&lt;NA&gt;</td>\n      <td>tt0080319,tt0086567,tt0074454,tt0069840</td>\n    </tr>\n    <tr>\n      <th>419583</th>\n      <td>tt0055994</td>\n      <td>4</td>\n      <td>nm0214748</td>\n      <td>archive_footage</td>\n      <td>movie</td>\n      <td>Forever My Love</td>\n      <td>0</td>\n      <td>1962</td>\n      <td>&lt;NA&gt;</td>\n      <td>148</td>\n      <td>Drama,Romance</td>\n      <td>Vilma Degischer</td>\n      <td>1911</td>\n      <td>1992</td>\n      <td>tt0056907,tt0050974,tt0049762,tt0048624</td>\n    </tr>\n    <tr>\n      <th>462996</th>\n      <td>tt0059884</td>\n      <td>3</td>\n      <td>nm0863146</td>\n      <td>actor</td>\n      <td>movie</td>\n      <td>Voyna i mir I: Andrey Bolkonskiy</td>\n      <td>0</td>\n      <td>1965</td>\n      <td>&lt;NA&gt;</td>\n      <td>147</td>\n      <td>Drama,War</td>\n      <td>Vyacheslav Tikhonov</td>\n      <td>1928</td>\n      <td>2009</td>\n      <td>tt0061162,tt0063794,tt0062456,tt0062907</td>\n    </tr>\n  </tbody>\n</table>\n</div>"
          },
          "metadata": {}
        }
      ],
      "execution_count": 28
    },
    {
      "cell_type": "markdown",
      "source": "Observations:\n\n- Category and titleType can ve converted to a Categorical variable.\n- isAdullt can be converted to boolean.\n- startYear and endYear, birthYear and deathYear need to be converted to datetime\n- runtimeMinutes to Uint\n\nFinally, genres need to be splited and converted to a categorical variable.",
      "metadata": {
        "tags": [],
        "cell_id": "00043-c4a1d93c-eb8f-430d-b0c3-066ca111829f",
        "deepnote_cell_type": "markdown"
      }
    },
    {
      "cell_type": "code",
      "source": "df.describe(include='all')",
      "metadata": {
        "tags": [],
        "cell_id": "00011-95aac138-2405-42f9-b912-63633a336855",
        "deepnote_to_be_reexecuted": false,
        "source_hash": "b1cecf2d",
        "execution_millis": 36,
        "output_cleared": false,
        "execution_start": 1619155376781,
        "deepnote_cell_type": "code"
      },
      "outputs": [
        {
          "output_type": "execute_result",
          "execution_count": 25,
          "data": {
            "application/vnd.deepnote.dataframe.v2+json": {
              "row_count": 11,
              "column_count": 15,
              "columns": [
                {
                  "name": "tconst",
                  "dtype": "object",
                  "stats": {
                    "unique_count": 4,
                    "nan_count": 7,
                    "categories": [
                      {
                        "name": "866",
                        "count": 1
                      },
                      {
                        "name": "3 others",
                        "count": 3
                      },
                      {
                        "name": "Missing",
                        "count": 7
                      }
                    ]
                  }
                },
                {
                  "name": "ordering",
                  "dtype": "float64",
                  "stats": {
                    "unique_count": 8,
                    "nan_count": 3,
                    "min": "1.0",
                    "max": "866.0",
                    "histogram": [
                      {
                        "bin_start": 1,
                        "bin_end": 87.5,
                        "count": 7
                      },
                      {
                        "bin_start": 87.5,
                        "bin_end": 174,
                        "count": 0
                      },
                      {
                        "bin_start": 174,
                        "bin_end": 260.5,
                        "count": 0
                      },
                      {
                        "bin_start": 260.5,
                        "bin_end": 347,
                        "count": 0
                      },
                      {
                        "bin_start": 347,
                        "bin_end": 433.5,
                        "count": 0
                      },
                      {
                        "bin_start": 433.5,
                        "bin_end": 520,
                        "count": 0
                      },
                      {
                        "bin_start": 520,
                        "bin_end": 606.5,
                        "count": 0
                      },
                      {
                        "bin_start": 606.5,
                        "bin_end": 693,
                        "count": 0
                      },
                      {
                        "bin_start": 693,
                        "bin_end": 779.5,
                        "count": 0
                      },
                      {
                        "bin_start": 779.5,
                        "bin_end": 866,
                        "count": 1
                      }
                    ]
                  }
                },
                {
                  "name": "nconst",
                  "dtype": "object",
                  "stats": {
                    "unique_count": 4,
                    "nan_count": 7,
                    "categories": [
                      {
                        "name": "866",
                        "count": 1
                      },
                      {
                        "name": "3 others",
                        "count": 3
                      },
                      {
                        "name": "Missing",
                        "count": 7
                      }
                    ]
                  }
                },
                {
                  "name": "category",
                  "dtype": "object",
                  "stats": {
                    "unique_count": 4,
                    "nan_count": 7,
                    "categories": [
                      {
                        "name": "866",
                        "count": 1
                      },
                      {
                        "name": "3 others",
                        "count": 3
                      },
                      {
                        "name": "Missing",
                        "count": 7
                      }
                    ]
                  }
                },
                {
                  "name": "titleType",
                  "dtype": "object",
                  "stats": {
                    "unique_count": 4,
                    "nan_count": 7,
                    "categories": [
                      {
                        "name": "866",
                        "count": 1
                      },
                      {
                        "name": "3 others",
                        "count": 3
                      },
                      {
                        "name": "Missing",
                        "count": 7
                      }
                    ]
                  }
                },
                {
                  "name": "originalTitle",
                  "dtype": "object",
                  "stats": {
                    "unique_count": 4,
                    "nan_count": 7,
                    "categories": [
                      {
                        "name": "866",
                        "count": 1
                      },
                      {
                        "name": "3 others",
                        "count": 3
                      },
                      {
                        "name": "Missing",
                        "count": 7
                      }
                    ]
                  }
                },
                {
                  "name": "isAdult",
                  "dtype": "float64",
                  "stats": {
                    "unique_count": 5,
                    "nan_count": 3,
                    "min": "0.0",
                    "max": "866.0",
                    "histogram": [
                      {
                        "bin_start": 0,
                        "bin_end": 86.6,
                        "count": 7
                      },
                      {
                        "bin_start": 86.6,
                        "bin_end": 173.2,
                        "count": 0
                      },
                      {
                        "bin_start": 173.2,
                        "bin_end": 259.79999999999995,
                        "count": 0
                      },
                      {
                        "bin_start": 259.79999999999995,
                        "bin_end": 346.4,
                        "count": 0
                      },
                      {
                        "bin_start": 346.4,
                        "bin_end": 433,
                        "count": 0
                      },
                      {
                        "bin_start": 433,
                        "bin_end": 519.5999999999999,
                        "count": 0
                      },
                      {
                        "bin_start": 519.5999999999999,
                        "bin_end": 606.1999999999999,
                        "count": 0
                      },
                      {
                        "bin_start": 606.1999999999999,
                        "bin_end": 692.8,
                        "count": 0
                      },
                      {
                        "bin_start": 692.8,
                        "bin_end": 779.4,
                        "count": 0
                      },
                      {
                        "bin_start": 779.4,
                        "bin_end": 866,
                        "count": 1
                      }
                    ]
                  }
                },
                {
                  "name": "startYear",
                  "dtype": "object",
                  "stats": {
                    "unique_count": 4,
                    "nan_count": 7,
                    "categories": [
                      {
                        "name": "866",
                        "count": 1
                      },
                      {
                        "name": "3 others",
                        "count": 3
                      },
                      {
                        "name": "Missing",
                        "count": 7
                      }
                    ]
                  }
                },
                {
                  "name": "endYear",
                  "dtype": "object",
                  "stats": {
                    "unique_count": 4,
                    "nan_count": 7,
                    "categories": [
                      {
                        "name": "30",
                        "count": 1
                      },
                      {
                        "name": "3 others",
                        "count": 3
                      },
                      {
                        "name": "Missing",
                        "count": 7
                      }
                    ]
                  }
                },
                {
                  "name": "runtimeMinutes",
                  "dtype": "object",
                  "stats": {
                    "unique_count": 4,
                    "nan_count": 7,
                    "categories": [
                      {
                        "name": "866",
                        "count": 1
                      },
                      {
                        "name": "3 others",
                        "count": 3
                      },
                      {
                        "name": "Missing",
                        "count": 7
                      }
                    ]
                  }
                },
                {
                  "name": "genres",
                  "dtype": "object",
                  "stats": {
                    "unique_count": 4,
                    "nan_count": 7,
                    "categories": [
                      {
                        "name": "866",
                        "count": 1
                      },
                      {
                        "name": "3 others",
                        "count": 3
                      },
                      {
                        "name": "Missing",
                        "count": 7
                      }
                    ]
                  }
                },
                {
                  "name": "primaryName",
                  "dtype": "object",
                  "stats": {
                    "unique_count": 4,
                    "nan_count": 7,
                    "categories": [
                      {
                        "name": "866",
                        "count": 1
                      },
                      {
                        "name": "3 others",
                        "count": 3
                      },
                      {
                        "name": "Missing",
                        "count": 7
                      }
                    ]
                  }
                },
                {
                  "name": "birthYear",
                  "dtype": "object",
                  "stats": {
                    "unique_count": 4,
                    "nan_count": 7,
                    "categories": [
                      {
                        "name": "721",
                        "count": 1
                      },
                      {
                        "name": "3 others",
                        "count": 3
                      },
                      {
                        "name": "Missing",
                        "count": 7
                      }
                    ]
                  }
                },
                {
                  "name": "deathYear",
                  "dtype": "object",
                  "stats": {
                    "unique_count": 4,
                    "nan_count": 7,
                    "categories": [
                      {
                        "name": "506",
                        "count": 1
                      },
                      {
                        "name": "3 others",
                        "count": 3
                      },
                      {
                        "name": "Missing",
                        "count": 7
                      }
                    ]
                  }
                },
                {
                  "name": "knownForTitles",
                  "dtype": "object",
                  "stats": {
                    "unique_count": 4,
                    "nan_count": 7,
                    "categories": [
                      {
                        "name": "866",
                        "count": 1
                      },
                      {
                        "name": "3 others",
                        "count": 3
                      },
                      {
                        "name": "Missing",
                        "count": 7
                      }
                    ]
                  }
                },
                {
                  "name": "_deepnote_index_column",
                  "dtype": "object"
                }
              ],
              "rows_top": [
                {
                  "tconst": "866",
                  "ordering": "866.0",
                  "nconst": "866",
                  "category": "866",
                  "titleType": "866",
                  "originalTitle": "866",
                  "isAdult": "866.0",
                  "startYear": "866",
                  "endYear": "30",
                  "runtimeMinutes": "866",
                  "genres": "866",
                  "primaryName": "866",
                  "birthYear": "721",
                  "deathYear": "506",
                  "knownForTitles": "866",
                  "_deepnote_index_column": "count"
                },
                {
                  "tconst": "865",
                  "ordering": "nan",
                  "nconst": "858",
                  "category": "11",
                  "titleType": "7",
                  "originalTitle": "864",
                  "isAdult": "nan",
                  "startYear": "97",
                  "endYear": "20",
                  "runtimeMinutes": "130",
                  "genres": "214",
                  "primaryName": "858",
                  "birthYear": "119",
                  "deathYear": "98",
                  "knownForTitles": "858",
                  "_deepnote_index_column": "unique"
                },
                {
                  "tconst": "tt0041302",
                  "ordering": "nan",
                  "nconst": "nm0730018",
                  "category": "actor",
                  "titleType": "movie",
                  "originalTitle": "Bodas de sangre",
                  "isAdult": "nan",
                  "startYear": "1994",
                  "endYear": "1984",
                  "runtimeMinutes": "90",
                  "genres": "Drama",
                  "primaryName": "Hal Roach",
                  "birthYear": "1929",
                  "deathYear": "1977",
                  "knownForTitles": "tt0032871,tt0014429,tt0179522,tt0249631",
                  "_deepnote_index_column": "top"
                },
                {
                  "tconst": "2",
                  "ordering": "nan",
                  "nconst": "3",
                  "category": "265",
                  "titleType": "680",
                  "originalTitle": "2",
                  "isAdult": "nan",
                  "startYear": "25",
                  "endYear": "5",
                  "runtimeMinutes": "47",
                  "genres": "144",
                  "primaryName": "3",
                  "birthYear": "18",
                  "deathYear": "16",
                  "knownForTitles": "3",
                  "_deepnote_index_column": "freq"
                },
                {
                  "tconst": "nan",
                  "ordering": "5.1986143187066975",
                  "nconst": "nan",
                  "category": "nan",
                  "titleType": "nan",
                  "originalTitle": "nan",
                  "isAdult": "0.006928406466512702",
                  "startYear": "nan",
                  "endYear": "nan",
                  "runtimeMinutes": "nan",
                  "genres": "nan",
                  "primaryName": "nan",
                  "birthYear": "nan",
                  "deathYear": "nan",
                  "knownForTitles": "nan",
                  "_deepnote_index_column": "mean"
                },
                {
                  "tconst": "nan",
                  "ordering": "2.922869430495549",
                  "nconst": "nan",
                  "category": "nan",
                  "titleType": "nan",
                  "originalTitle": "nan",
                  "isAdult": "0.08299613168227012",
                  "startYear": "nan",
                  "endYear": "nan",
                  "runtimeMinutes": "nan",
                  "genres": "nan",
                  "primaryName": "nan",
                  "birthYear": "nan",
                  "deathYear": "nan",
                  "knownForTitles": "nan",
                  "_deepnote_index_column": "std"
                },
                {
                  "tconst": "nan",
                  "ordering": "1.0",
                  "nconst": "nan",
                  "category": "nan",
                  "titleType": "nan",
                  "originalTitle": "nan",
                  "isAdult": "0.0",
                  "startYear": "nan",
                  "endYear": "nan",
                  "runtimeMinutes": "nan",
                  "genres": "nan",
                  "primaryName": "nan",
                  "birthYear": "nan",
                  "deathYear": "nan",
                  "knownForTitles": "nan",
                  "_deepnote_index_column": "min"
                },
                {
                  "tconst": "nan",
                  "ordering": "3.0",
                  "nconst": "nan",
                  "category": "nan",
                  "titleType": "nan",
                  "originalTitle": "nan",
                  "isAdult": "0.0",
                  "startYear": "nan",
                  "endYear": "nan",
                  "runtimeMinutes": "nan",
                  "genres": "nan",
                  "primaryName": "nan",
                  "birthYear": "nan",
                  "deathYear": "nan",
                  "knownForTitles": "nan",
                  "_deepnote_index_column": "25%"
                },
                {
                  "tconst": "nan",
                  "ordering": "5.0",
                  "nconst": "nan",
                  "category": "nan",
                  "titleType": "nan",
                  "originalTitle": "nan",
                  "isAdult": "0.0",
                  "startYear": "nan",
                  "endYear": "nan",
                  "runtimeMinutes": "nan",
                  "genres": "nan",
                  "primaryName": "nan",
                  "birthYear": "nan",
                  "deathYear": "nan",
                  "knownForTitles": "nan",
                  "_deepnote_index_column": "50%"
                },
                {
                  "tconst": "nan",
                  "ordering": "8.0",
                  "nconst": "nan",
                  "category": "nan",
                  "titleType": "nan",
                  "originalTitle": "nan",
                  "isAdult": "0.0",
                  "startYear": "nan",
                  "endYear": "nan",
                  "runtimeMinutes": "nan",
                  "genres": "nan",
                  "primaryName": "nan",
                  "birthYear": "nan",
                  "deathYear": "nan",
                  "knownForTitles": "nan",
                  "_deepnote_index_column": "75%"
                },
                {
                  "tconst": "nan",
                  "ordering": "10.0",
                  "nconst": "nan",
                  "category": "nan",
                  "titleType": "nan",
                  "originalTitle": "nan",
                  "isAdult": "1.0",
                  "startYear": "nan",
                  "endYear": "nan",
                  "runtimeMinutes": "nan",
                  "genres": "nan",
                  "primaryName": "nan",
                  "birthYear": "nan",
                  "deathYear": "nan",
                  "knownForTitles": "nan",
                  "_deepnote_index_column": "max"
                }
              ],
              "rows_bottom": null
            },
            "text/plain": "           tconst    ordering     nconst category titleType    originalTitle  \\\ncount         866  866.000000        866      866       866              866   \nunique        865         NaN        858       11         7              864   \ntop     tt0041302         NaN  nm0730018    actor     movie  Bodas de sangre   \nfreq            2         NaN          3      265       680                2   \nmean          NaN    5.198614        NaN      NaN       NaN              NaN   \nstd           NaN    2.922869        NaN      NaN       NaN              NaN   \nmin           NaN    1.000000        NaN      NaN       NaN              NaN   \n25%           NaN    3.000000        NaN      NaN       NaN              NaN   \n50%           NaN    5.000000        NaN      NaN       NaN              NaN   \n75%           NaN    8.000000        NaN      NaN       NaN              NaN   \nmax           NaN   10.000000        NaN      NaN       NaN              NaN   \n\n           isAdult startYear endYear runtimeMinutes genres primaryName  \\\ncount   866.000000       866      30            866    866         866   \nunique         NaN        97      20            130    214         858   \ntop            NaN      1994    1984             90  Drama   Hal Roach   \nfreq           NaN        25       5             47    144           3   \nmean      0.006928       NaN     NaN            NaN    NaN         NaN   \nstd       0.082996       NaN     NaN            NaN    NaN         NaN   \nmin       0.000000       NaN     NaN            NaN    NaN         NaN   \n25%       0.000000       NaN     NaN            NaN    NaN         NaN   \n50%       0.000000       NaN     NaN            NaN    NaN         NaN   \n75%       0.000000       NaN     NaN            NaN    NaN         NaN   \nmax       1.000000       NaN     NaN            NaN    NaN         NaN   \n\n       birthYear deathYear                           knownForTitles  \ncount        721       506                                      866  \nunique       119        98                                      858  \ntop         1929      1977  tt0032871,tt0014429,tt0179522,tt0249631  \nfreq          18        16                                        3  \nmean         NaN       NaN                                      NaN  \nstd          NaN       NaN                                      NaN  \nmin          NaN       NaN                                      NaN  \n25%          NaN       NaN                                      NaN  \n50%          NaN       NaN                                      NaN  \n75%          NaN       NaN                                      NaN  \nmax          NaN       NaN                                      NaN  ",
            "text/html": "<div>\n<style scoped>\n    .dataframe tbody tr th:only-of-type {\n        vertical-align: middle;\n    }\n\n    .dataframe tbody tr th {\n        vertical-align: top;\n    }\n\n    .dataframe thead th {\n        text-align: right;\n    }\n</style>\n<table border=\"1\" class=\"dataframe\">\n  <thead>\n    <tr style=\"text-align: right;\">\n      <th></th>\n      <th>tconst</th>\n      <th>ordering</th>\n      <th>nconst</th>\n      <th>category</th>\n      <th>titleType</th>\n      <th>originalTitle</th>\n      <th>isAdult</th>\n      <th>startYear</th>\n      <th>endYear</th>\n      <th>runtimeMinutes</th>\n      <th>genres</th>\n      <th>primaryName</th>\n      <th>birthYear</th>\n      <th>deathYear</th>\n      <th>knownForTitles</th>\n    </tr>\n  </thead>\n  <tbody>\n    <tr>\n      <th>count</th>\n      <td>866</td>\n      <td>866.000000</td>\n      <td>866</td>\n      <td>866</td>\n      <td>866</td>\n      <td>866</td>\n      <td>866.000000</td>\n      <td>866</td>\n      <td>30</td>\n      <td>866</td>\n      <td>866</td>\n      <td>866</td>\n      <td>721</td>\n      <td>506</td>\n      <td>866</td>\n    </tr>\n    <tr>\n      <th>unique</th>\n      <td>865</td>\n      <td>NaN</td>\n      <td>858</td>\n      <td>11</td>\n      <td>7</td>\n      <td>864</td>\n      <td>NaN</td>\n      <td>97</td>\n      <td>20</td>\n      <td>130</td>\n      <td>214</td>\n      <td>858</td>\n      <td>119</td>\n      <td>98</td>\n      <td>858</td>\n    </tr>\n    <tr>\n      <th>top</th>\n      <td>tt0041302</td>\n      <td>NaN</td>\n      <td>nm0730018</td>\n      <td>actor</td>\n      <td>movie</td>\n      <td>Bodas de sangre</td>\n      <td>NaN</td>\n      <td>1994</td>\n      <td>1984</td>\n      <td>90</td>\n      <td>Drama</td>\n      <td>Hal Roach</td>\n      <td>1929</td>\n      <td>1977</td>\n      <td>tt0032871,tt0014429,tt0179522,tt0249631</td>\n    </tr>\n    <tr>\n      <th>freq</th>\n      <td>2</td>\n      <td>NaN</td>\n      <td>3</td>\n      <td>265</td>\n      <td>680</td>\n      <td>2</td>\n      <td>NaN</td>\n      <td>25</td>\n      <td>5</td>\n      <td>47</td>\n      <td>144</td>\n      <td>3</td>\n      <td>18</td>\n      <td>16</td>\n      <td>3</td>\n    </tr>\n    <tr>\n      <th>mean</th>\n      <td>NaN</td>\n      <td>5.198614</td>\n      <td>NaN</td>\n      <td>NaN</td>\n      <td>NaN</td>\n      <td>NaN</td>\n      <td>0.006928</td>\n      <td>NaN</td>\n      <td>NaN</td>\n      <td>NaN</td>\n      <td>NaN</td>\n      <td>NaN</td>\n      <td>NaN</td>\n      <td>NaN</td>\n      <td>NaN</td>\n    </tr>\n    <tr>\n      <th>std</th>\n      <td>NaN</td>\n      <td>2.922869</td>\n      <td>NaN</td>\n      <td>NaN</td>\n      <td>NaN</td>\n      <td>NaN</td>\n      <td>0.082996</td>\n      <td>NaN</td>\n      <td>NaN</td>\n      <td>NaN</td>\n      <td>NaN</td>\n      <td>NaN</td>\n      <td>NaN</td>\n      <td>NaN</td>\n      <td>NaN</td>\n    </tr>\n    <tr>\n      <th>min</th>\n      <td>NaN</td>\n      <td>1.000000</td>\n      <td>NaN</td>\n      <td>NaN</td>\n      <td>NaN</td>\n      <td>NaN</td>\n      <td>0.000000</td>\n      <td>NaN</td>\n      <td>NaN</td>\n      <td>NaN</td>\n      <td>NaN</td>\n      <td>NaN</td>\n      <td>NaN</td>\n      <td>NaN</td>\n      <td>NaN</td>\n    </tr>\n    <tr>\n      <th>25%</th>\n      <td>NaN</td>\n      <td>3.000000</td>\n      <td>NaN</td>\n      <td>NaN</td>\n      <td>NaN</td>\n      <td>NaN</td>\n      <td>0.000000</td>\n      <td>NaN</td>\n      <td>NaN</td>\n      <td>NaN</td>\n      <td>NaN</td>\n      <td>NaN</td>\n      <td>NaN</td>\n      <td>NaN</td>\n      <td>NaN</td>\n    </tr>\n    <tr>\n      <th>50%</th>\n      <td>NaN</td>\n      <td>5.000000</td>\n      <td>NaN</td>\n      <td>NaN</td>\n      <td>NaN</td>\n      <td>NaN</td>\n      <td>0.000000</td>\n      <td>NaN</td>\n      <td>NaN</td>\n      <td>NaN</td>\n      <td>NaN</td>\n      <td>NaN</td>\n      <td>NaN</td>\n      <td>NaN</td>\n      <td>NaN</td>\n    </tr>\n    <tr>\n      <th>75%</th>\n      <td>NaN</td>\n      <td>8.000000</td>\n      <td>NaN</td>\n      <td>NaN</td>\n      <td>NaN</td>\n      <td>NaN</td>\n      <td>0.000000</td>\n      <td>NaN</td>\n      <td>NaN</td>\n      <td>NaN</td>\n      <td>NaN</td>\n      <td>NaN</td>\n      <td>NaN</td>\n      <td>NaN</td>\n      <td>NaN</td>\n    </tr>\n    <tr>\n      <th>max</th>\n      <td>NaN</td>\n      <td>10.000000</td>\n      <td>NaN</td>\n      <td>NaN</td>\n      <td>NaN</td>\n      <td>NaN</td>\n      <td>1.000000</td>\n      <td>NaN</td>\n      <td>NaN</td>\n      <td>NaN</td>\n      <td>NaN</td>\n      <td>NaN</td>\n      <td>NaN</td>\n      <td>NaN</td>\n      <td>NaN</td>\n    </tr>\n  </tbody>\n</table>\n</div>"
          },
          "metadata": {}
        }
      ],
      "execution_count": 25
    },
    {
      "cell_type": "code",
      "source": "df.head()",
      "metadata": {
        "tags": [],
        "cell_id": "00041-d54c3d44-1f82-4b4d-b465-3724b98bd903",
        "deepnote_to_be_reexecuted": false,
        "source_hash": "c085b6ba",
        "execution_millis": 30,
        "execution_start": 1619155376822,
        "deepnote_cell_type": "code"
      },
      "outputs": [
        {
          "output_type": "execute_result",
          "execution_count": 26,
          "data": {
            "application/vnd.deepnote.dataframe.v2+json": {
              "error": "Traceback (most recent call last):\n  File \"/shared-libs/code/variable_explorer.py\", line 143, in dataframe_formatter\n    return { MIME_TYPE: describe_pd_dataframe(df) }\n  File \"/shared-libs/code/variable_explorer_helpers.py\", line 154, in describe_pd_dataframe\n    if (is_type_numeric(column.dtype)):\n  File \"/shared-libs/code/variable_explorer_helpers.py\", line 13, in is_type_numeric\n    return np.issubdtype(dtype, np.number)\n  File \"/shared-libs/python3.7/py/lib/python3.7/site-packages/numpy/core/numerictypes.py\", line 388, in issubdtype\n    arg1 = dtype(arg1).type\nTypeError: Cannot interpret 'StringDtype' as a data type\n"
            },
            "text/plain": "           tconst  ordering     nconst         category titleType  \\\n842775  tt0105845         4  nm0461918            actor     movie   \n969004  tt0112598         1  nm0954128         director     short   \n701758  tt0074454         3  nm0078525            actor     movie   \n419583  tt0055994         4  nm0214748  archive_footage     movie   \n462996  tt0059884         3  nm0863146            actor     movie   \n\n                                    originalTitle  isAdult startYear endYear  \\\n842775                               Wu hu si hai        0      1992    <NA>   \n969004  Burgenland 1945 - Historische Spurensuche        0      1995    <NA>   \n701758                                Eat My Dust        0      1976    <NA>   \n419583                            Forever My Love        0      1962    <NA>   \n462996           Voyna i mir I: Andrey Bolkonskiy        0      1965    <NA>   \n\n       runtimeMinutes                 genres            primaryName birthYear  \\\n842775             90  Action,Crime,Thriller  Blackie Shou-Liang Ko      1953   \n969004             32                  Short    Herbert Zechmeister      <NA>   \n701758             89  Action,Comedy,Romance             Brad David      1947   \n419583            148          Drama,Romance        Vilma Degischer      1911   \n462996            147              Drama,War    Vyacheslav Tikhonov      1928   \n\n       deathYear                           knownForTitles  \n842775      2003  tt0105845,tt0368813,tt0091431,tt0067009  \n969004      <NA>  tt0112598,tt0114686,tt0144061,tt0390500  \n701758      <NA>  tt0080319,tt0086567,tt0074454,tt0069840  \n419583      1992  tt0056907,tt0050974,tt0049762,tt0048624  \n462996      2009  tt0061162,tt0063794,tt0062456,tt0062907  ",
            "text/html": "<div>\n<style scoped>\n    .dataframe tbody tr th:only-of-type {\n        vertical-align: middle;\n    }\n\n    .dataframe tbody tr th {\n        vertical-align: top;\n    }\n\n    .dataframe thead th {\n        text-align: right;\n    }\n</style>\n<table border=\"1\" class=\"dataframe\">\n  <thead>\n    <tr style=\"text-align: right;\">\n      <th></th>\n      <th>tconst</th>\n      <th>ordering</th>\n      <th>nconst</th>\n      <th>category</th>\n      <th>titleType</th>\n      <th>originalTitle</th>\n      <th>isAdult</th>\n      <th>startYear</th>\n      <th>endYear</th>\n      <th>runtimeMinutes</th>\n      <th>genres</th>\n      <th>primaryName</th>\n      <th>birthYear</th>\n      <th>deathYear</th>\n      <th>knownForTitles</th>\n    </tr>\n  </thead>\n  <tbody>\n    <tr>\n      <th>842775</th>\n      <td>tt0105845</td>\n      <td>4</td>\n      <td>nm0461918</td>\n      <td>actor</td>\n      <td>movie</td>\n      <td>Wu hu si hai</td>\n      <td>0</td>\n      <td>1992</td>\n      <td>&lt;NA&gt;</td>\n      <td>90</td>\n      <td>Action,Crime,Thriller</td>\n      <td>Blackie Shou-Liang Ko</td>\n      <td>1953</td>\n      <td>2003</td>\n      <td>tt0105845,tt0368813,tt0091431,tt0067009</td>\n    </tr>\n    <tr>\n      <th>969004</th>\n      <td>tt0112598</td>\n      <td>1</td>\n      <td>nm0954128</td>\n      <td>director</td>\n      <td>short</td>\n      <td>Burgenland 1945 - Historische Spurensuche</td>\n      <td>0</td>\n      <td>1995</td>\n      <td>&lt;NA&gt;</td>\n      <td>32</td>\n      <td>Short</td>\n      <td>Herbert Zechmeister</td>\n      <td>&lt;NA&gt;</td>\n      <td>&lt;NA&gt;</td>\n      <td>tt0112598,tt0114686,tt0144061,tt0390500</td>\n    </tr>\n    <tr>\n      <th>701758</th>\n      <td>tt0074454</td>\n      <td>3</td>\n      <td>nm0078525</td>\n      <td>actor</td>\n      <td>movie</td>\n      <td>Eat My Dust</td>\n      <td>0</td>\n      <td>1976</td>\n      <td>&lt;NA&gt;</td>\n      <td>89</td>\n      <td>Action,Comedy,Romance</td>\n      <td>Brad David</td>\n      <td>1947</td>\n      <td>&lt;NA&gt;</td>\n      <td>tt0080319,tt0086567,tt0074454,tt0069840</td>\n    </tr>\n    <tr>\n      <th>419583</th>\n      <td>tt0055994</td>\n      <td>4</td>\n      <td>nm0214748</td>\n      <td>archive_footage</td>\n      <td>movie</td>\n      <td>Forever My Love</td>\n      <td>0</td>\n      <td>1962</td>\n      <td>&lt;NA&gt;</td>\n      <td>148</td>\n      <td>Drama,Romance</td>\n      <td>Vilma Degischer</td>\n      <td>1911</td>\n      <td>1992</td>\n      <td>tt0056907,tt0050974,tt0049762,tt0048624</td>\n    </tr>\n    <tr>\n      <th>462996</th>\n      <td>tt0059884</td>\n      <td>3</td>\n      <td>nm0863146</td>\n      <td>actor</td>\n      <td>movie</td>\n      <td>Voyna i mir I: Andrey Bolkonskiy</td>\n      <td>0</td>\n      <td>1965</td>\n      <td>&lt;NA&gt;</td>\n      <td>147</td>\n      <td>Drama,War</td>\n      <td>Vyacheslav Tikhonov</td>\n      <td>1928</td>\n      <td>2009</td>\n      <td>tt0061162,tt0063794,tt0062456,tt0062907</td>\n    </tr>\n  </tbody>\n</table>\n</div>"
          },
          "metadata": {}
        }
      ],
      "execution_count": 26
    },
    {
      "cell_type": "code",
      "source": "df.value_counts(['category'])",
      "metadata": {
        "tags": [],
        "cell_id": "00009-34e316a6-5822-44e8-b07e-f17e75043bf1",
        "deepnote_to_be_reexecuted": false,
        "source_hash": "10f43bc0",
        "execution_millis": 109,
        "execution_start": 1619155376920,
        "deepnote_cell_type": "code"
      },
      "outputs": [
        {
          "output_type": "execute_result",
          "execution_count": 27,
          "data": {
            "text/plain": "category           \nactor                  265\nactress                150\nwriter                 125\ndirector               100\ncinematographer         67\ncomposer                49\nproducer                43\neditor                  42\nproduction_designer     11\nself                    10\narchive_footage          4\ndtype: int64"
          },
          "metadata": {}
        }
      ],
      "execution_count": 27
    },
    {
      "cell_type": "markdown",
      "source": "<a style='text-decoration:none;line-height:16px;display:flex;color:#5B5B62;padding:10px;justify-content:end;' href='https://deepnote.com?utm_source=created-in-deepnote-cell&projectId=ae595caa-7ee7-464e-a512-6077c518652b' target=\"_blank\">\n<img alt='Created in deepnote.com' style='display:inline;max-height:16px;margin:0px;margin-right:7.5px;' src='data:image/svg+xml;base64,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' > </img>\nCreated in <span style='font-weight:600;margin-left:4px;'>Deepnote</span></a>",
      "metadata": {
        "tags": [],
        "created_in_deepnote_cell": true,
        "deepnote_cell_type": "markdown"
      }
    }
  ],
  "nbformat": 4,
  "nbformat_minor": 5,
  "metadata": {
    "kernelspec": {
      "display_name": "Python 3",
      "language": "python",
      "name": "python3"
    },
    "language_info": {
      "codemirror_mode": {
        "name": "ipython",
        "version": 3
      },
      "file_extension": ".py",
      "mimetype": "text/x-python",
      "name": "python",
      "nbconvert_exporter": "python",
      "pygments_lexer": "ipython3",
      "version": "3.8.0"
    },
    "deepnote_notebook_id": "31afd07c-d519-4e48-a3bd-e81194ce5b67",
    "deepnote": {},
    "deepnote_execution_queue": []
  }
}